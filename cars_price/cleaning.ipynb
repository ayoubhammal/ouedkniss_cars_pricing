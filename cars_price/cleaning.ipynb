{
 "cells": [
  {
   "cell_type": "code",
   "execution_count": 1,
   "id": "ade42e80",
   "metadata": {},
   "outputs": [],
   "source": [
    "%matplotlib inline\n",
    "\n",
    "import os, re, json\n",
    "\n",
    "import numpy as np\n",
    "import pandas as pd"
   ]
  },
  {
   "cell_type": "markdown",
   "id": "71c8d3df-2bf2-4431-a882-ccd4d82dc3a7",
   "metadata": {},
   "source": [
    "Loading tha raw data scraped from Ouedkniss"
   ]
  },
  {
   "cell_type": "code",
   "execution_count": 2,
   "id": "2f1b36bc",
   "metadata": {},
   "outputs": [],
   "source": [
    "df_full = pd.read_json(os.path.abspath('dataset/cars_raw.json'))"
   ]
  },
  {
   "cell_type": "code",
   "execution_count": 3,
   "id": "97b15902",
   "metadata": {
    "scrolled": true
   },
   "outputs": [
    {
     "data": {
      "text/html": [
       "<div>\n",
       "<style scoped>\n",
       "    .dataframe tbody tr th:only-of-type {\n",
       "        vertical-align: middle;\n",
       "    }\n",
       "\n",
       "    .dataframe tbody tr th {\n",
       "        vertical-align: top;\n",
       "    }\n",
       "\n",
       "    .dataframe thead th {\n",
       "        text-align: right;\n",
       "    }\n",
       "</style>\n",
       "<table border=\"1\" class=\"dataframe\">\n",
       "  <thead>\n",
       "    <tr style=\"text-align: right;\">\n",
       "      <th></th>\n",
       "      <th>id</th>\n",
       "      <th>date</th>\n",
       "      <th>category</th>\n",
       "      <th>energy</th>\n",
       "      <th>engine</th>\n",
       "      <th>range</th>\n",
       "      <th>color</th>\n",
       "      <th>papers</th>\n",
       "      <th>options</th>\n",
       "      <th>transmission</th>\n",
       "      <th>price</th>\n",
       "      <th>title</th>\n",
       "      <th>address</th>\n",
       "    </tr>\n",
       "  </thead>\n",
       "  <tbody>\n",
       "    <tr>\n",
       "      <th>17581</th>\n",
       "      <td>26996430</td>\n",
       "      <td>06-06-2021 à 20:06</td>\n",
       "      <td>Break - Familiale</td>\n",
       "      <td>Diesel</td>\n",
       "      <td>1.6 ess 102ch</td>\n",
       "      <td>160000  km</td>\n",
       "      <td>Blanc</td>\n",
       "      <td>Carte Grise (safia)</td>\n",
       "      <td>Climatisation ,  ABS ,  ESP ,  Radar de recul...</td>\n",
       "      <td>Manuelle</td>\n",
       "      <td>275 Millions Offert</td>\n",
       "      <td>Volkswagen Caddy Confortline 2017</td>\n",
       "      <td>Alger Sidi moussa</td>\n",
       "    </tr>\n",
       "    <tr>\n",
       "      <th>17582</th>\n",
       "      <td>27136575</td>\n",
       "      <td>06-06-2021 à 16:53</td>\n",
       "      <td>Mini citadine</td>\n",
       "      <td>Essence</td>\n",
       "      <td>1.1 ess 68ch</td>\n",
       "      <td>223000  km</td>\n",
       "      <td>Gris</td>\n",
       "      <td>Carte Grise (safia)</td>\n",
       "      <td>Climatisation</td>\n",
       "      <td>Manuelle</td>\n",
       "      <td>63 Millions Fixe</td>\n",
       "      <td>Chery QQ  2012</td>\n",
       "      <td>Bordj bou arreridj Bordj bou arreridj</td>\n",
       "    </tr>\n",
       "    <tr>\n",
       "      <th>17583</th>\n",
       "      <td>27136210</td>\n",
       "      <td>06-06-2021 à 16:24</td>\n",
       "      <td>Berline</td>\n",
       "      <td>Diesel</td>\n",
       "      <td>2.0 TDCI 121ch</td>\n",
       "      <td>200000  km</td>\n",
       "      <td>Gris Argent</td>\n",
       "      <td>Carte Grise (safia)</td>\n",
       "      <td>Climatisation ,  ABS ,  ESP ,  Retroviseurs é...</td>\n",
       "      <td>Manuelle</td>\n",
       "      <td>128 Millions Offert</td>\n",
       "      <td>Chevrolet Optra 4 portes  2012</td>\n",
       "      <td>Alger Bordj el kiffan</td>\n",
       "    </tr>\n",
       "    <tr>\n",
       "      <th>17584</th>\n",
       "      <td>27136039</td>\n",
       "      <td>06-06-2021 à 16:47</td>\n",
       "      <td>Citadine</td>\n",
       "      <td>Diesel</td>\n",
       "      <td>1.6 HDI 92ch</td>\n",
       "      <td>200  km</td>\n",
       "      <td>Blanc</td>\n",
       "      <td>Carte Grise (safia)</td>\n",
       "      <td>Climatisation ,  ABS ,  ESP ,  Radar de recul...</td>\n",
       "      <td>Manuelle</td>\n",
       "      <td>111 Millions Négociable</td>\n",
       "      <td>Peugeot 207 Allure 2011</td>\n",
       "      <td>Oum el bouaghi Ain mlila</td>\n",
       "    </tr>\n",
       "    <tr>\n",
       "      <th>17585</th>\n",
       "      <td>27135969</td>\n",
       "      <td>06-06-2021 à 16:55</td>\n",
       "      <td>Berline</td>\n",
       "      <td>Essence</td>\n",
       "      <td>1.6 ess 16V 109ch</td>\n",
       "      <td>331000  km</td>\n",
       "      <td>Gris</td>\n",
       "      <td>Carte Grise (safia)</td>\n",
       "      <td>Climatisation ,  Direction assisstée ,  Retro...</td>\n",
       "      <td>Manuelle</td>\n",
       "      <td>65 Millions Offert</td>\n",
       "      <td>Chevrolet Optra 4 portes  2006</td>\n",
       "      <td>Alger Belouizdad</td>\n",
       "    </tr>\n",
       "  </tbody>\n",
       "</table>\n",
       "</div>"
      ],
      "text/plain": [
       "             id                date           category   energy  \\\n",
       "17581  26996430  06-06-2021 à 20:06  Break - Familiale   Diesel   \n",
       "17582  27136575  06-06-2021 à 16:53      Mini citadine  Essence   \n",
       "17583  27136210  06-06-2021 à 16:24            Berline   Diesel   \n",
       "17584  27136039  06-06-2021 à 16:47           Citadine   Diesel   \n",
       "17585  27135969  06-06-2021 à 16:55            Berline  Essence   \n",
       "\n",
       "                  engine        range        color               papers  \\\n",
       "17581      1.6 ess 102ch  160000  km         Blanc  Carte Grise (safia)   \n",
       "17582       1.1 ess 68ch  223000  km          Gris  Carte Grise (safia)   \n",
       "17583     2.0 TDCI 121ch  200000  km   Gris Argent  Carte Grise (safia)   \n",
       "17584       1.6 HDI 92ch     200  km         Blanc  Carte Grise (safia)   \n",
       "17585  1.6 ess 16V 109ch  331000  km          Gris  Carte Grise (safia)   \n",
       "\n",
       "                                                 options transmission  \\\n",
       "17581   Climatisation ,  ABS ,  ESP ,  Radar de recul...     Manuelle   \n",
       "17582                                     Climatisation      Manuelle   \n",
       "17583   Climatisation ,  ABS ,  ESP ,  Retroviseurs é...     Manuelle   \n",
       "17584   Climatisation ,  ABS ,  ESP ,  Radar de recul...     Manuelle   \n",
       "17585   Climatisation ,  Direction assisstée ,  Retro...     Manuelle   \n",
       "\n",
       "                         price                              title  \\\n",
       "17581      275 Millions Offert  Volkswagen Caddy Confortline 2017   \n",
       "17582         63 Millions Fixe                     Chery QQ  2012   \n",
       "17583      128 Millions Offert     Chevrolet Optra 4 portes  2012   \n",
       "17584  111 Millions Négociable            Peugeot 207 Allure 2011   \n",
       "17585       65 Millions Offert     Chevrolet Optra 4 portes  2006   \n",
       "\n",
       "                                     address  \n",
       "17581                      Alger Sidi moussa  \n",
       "17582  Bordj bou arreridj Bordj bou arreridj  \n",
       "17583                  Alger Bordj el kiffan  \n",
       "17584               Oum el bouaghi Ain mlila  \n",
       "17585                       Alger Belouizdad  "
      ]
     },
     "execution_count": 3,
     "metadata": {},
     "output_type": "execute_result"
    }
   ],
   "source": [
    "df_full.tail()"
   ]
  },
  {
   "cell_type": "code",
   "execution_count": 4,
   "id": "d186b6c8-2861-4774-8953-1719e22136f8",
   "metadata": {
    "tags": []
   },
   "outputs": [],
   "source": [
    "df = df_full.copy()"
   ]
  },
  {
   "cell_type": "markdown",
   "id": "a5ad66f4-b0d1-4c97-89d4-be212e92a2f0",
   "metadata": {},
   "source": [
    "Loading Algeria provinces list, in addition to cars brands list scraped from Ouedkniss"
   ]
  },
  {
   "cell_type": "code",
   "execution_count": 5,
   "id": "d5ae0260-bdbd-43ae-9835-2e1a11414311",
   "metadata": {},
   "outputs": [],
   "source": [
    "with open(os.path.abspath(\"wilayas.json\"), 'r') as wilayas_file:\n",
    "    wilayas = json.load(wilayas_file)\n",
    "with open(os.path.abspath(\"brands.json\"), 'r') as brands_file:\n",
    "    brands = json.load(brands_file)"
   ]
  },
  {
   "cell_type": "markdown",
   "id": "2e71c982-e296-4c14-b1ed-c339197536fd",
   "metadata": {},
   "source": [
    "Some addresses contain empty strings, we will transform them to NaN value"
   ]
  },
  {
   "cell_type": "code",
   "execution_count": 6,
   "id": "90b0c6d1-ddb4-4495-afc7-8ac9e1ffd1a7",
   "metadata": {},
   "outputs": [],
   "source": [
    "df['address'] = df['address'].map(lambda x: np.nan if x == '' else x)"
   ]
  },
  {
   "cell_type": "markdown",
   "id": "2af9e0e8-6d2f-49a0-8673-552cf0abd415",
   "metadata": {},
   "source": [
    "We will then preprocess obvious values like price, the type of offer and the car range ...\n",
    "\n",
    "For the date attribute for instance, we will only keep the date, the time part is irrelevant."
   ]
  },
  {
   "cell_type": "code",
   "execution_count": 7,
   "id": "537043e7",
   "metadata": {},
   "outputs": [],
   "source": [
    "df['offer'] = df['price'].map(lambda x: x.split()[-1].lower(), na_action = 'ignore')\n",
    "df['price'] = df['price'].map(lambda x: float(x.split()[0]), na_action = 'ignore')\n",
    "df['range'] = df['range'].map(lambda x: int(x.split()[0]), na_action = 'ignore')\n",
    "df['color'] = df['color'].map(lambda x: str(x).split()[0].lower(), na_action = 'ignore')\n",
    "df['date'] = df['date'].map(lambda x: str(x).split()[0], na_action = 'ignore')\n",
    "df['category'] = df['category'].map(lambda x: x.lower())\n",
    "df['energy'] = df['energy'].map(lambda x: x.lower())\n",
    "df['papers'] = df['papers'].map(lambda x: x.lower())\n",
    "df['transmission'] = df['transmission'].map(lambda x: x.lower())"
   ]
  },
  {
   "cell_type": "markdown",
   "id": "456dfd6b-ebc9-4889-b566-077b8286ea6d",
   "metadata": {},
   "source": [
    "Using the list of provinces, we will proceed to split the address column to wilaya and town"
   ]
  },
  {
   "cell_type": "code",
   "execution_count": 8,
   "id": "1e315639-0832-4264-8c0c-d98552fc8d0f",
   "metadata": {},
   "outputs": [],
   "source": [
    "def split_address(address):\n",
    "    # Checking for NaN values\n",
    "    if pd.isna(address):\n",
    "        return np.nan, np.nan\n",
    "    \n",
    "    address = address.lower().split()\n",
    "    for i in range(1, len(address) + 1):\n",
    "        if ' '.join(address[ : i]) in wilayas:\n",
    "            town = ' '.join(address[i : ]).split(',')[0].strip()\n",
    "            return (' '.join(address[ : i]), town)\n",
    "    return np.nan, np.nan"
   ]
  },
  {
   "cell_type": "code",
   "execution_count": 9,
   "id": "1ab0cadd-d47f-4c7f-ba23-d61c6efb3f76",
   "metadata": {},
   "outputs": [],
   "source": [
    "df[['wilaya', 'town']] = pd.DataFrame(df['address'].map(split_address).tolist())"
   ]
  },
  {
   "cell_type": "code",
   "execution_count": 10,
   "id": "5ea2c4ee-5189-40f7-be6a-9995c8507b09",
   "metadata": {},
   "outputs": [],
   "source": [
    "df.drop('address', axis = 1, inplace = True)"
   ]
  },
  {
   "cell_type": "markdown",
   "id": "6f7d411f-99e2-49c7-bee7-83a03771c661",
   "metadata": {},
   "source": [
    "Brand is the most important feature for price prediciton, yet it is the most difficult to prepare.\n",
    "\n",
    "Users have introduced many unknown brands, due to spelling errors or using other languages, some brands are not even car brands."
   ]
  },
  {
   "cell_type": "code",
   "execution_count": 11,
   "id": "1e3a8dcd-9d1a-415a-bdd7-d369d3e2ebeb",
   "metadata": {},
   "outputs": [],
   "source": [
    "def split_title(title):\n",
    "    # Checking for NaN values\n",
    "    if pd.isna(title):\n",
    "        return np.nan, np.nan, np.nan\n",
    "    \n",
    "    title = title.lower().split()\n",
    "    for i in range(1, len(title) + 1):\n",
    "        if ' '.join(title[ : i]) in brands:\n",
    "            return (' '.join(title[ : i]), ' '.join(title[i : i + 1]), int(title[-1]))\n",
    "    return (title[0], ' '.join(title[1 : -1]), int(title[-1]))"
   ]
  },
  {
   "cell_type": "code",
   "execution_count": 12,
   "id": "cf3eba37-cdef-430e-b028-d5092b33d10a",
   "metadata": {},
   "outputs": [],
   "source": [
    "df[['brand', 'model', 'year']] = pd.DataFrame(df['title'].map(split_title).tolist())\n",
    "\n",
    "brands_counts = df['brand'].value_counts().sort_values(\n",
    "            ascending = False).reset_index().set_axis(\n",
    "            ['brand', 'count'], axis = 1)"
   ]
  },
  {
   "cell_type": "markdown",
   "id": "cae7ecf6-1932-49dd-a392-79105ae36be7",
   "metadata": {},
   "source": [
    "We will try to find any patterns in unknown brands."
   ]
  },
  {
   "cell_type": "code",
   "execution_count": 13,
   "id": "e428c9c2-1d20-42aa-9918-0e3b6916cdfc",
   "metadata": {
    "tags": []
   },
   "outputs": [
    {
     "name": "stdout",
     "output_type": "stream",
     "text": [
      "clio huanghai range golf 207 wuling iveco ibiza r4 jinbei سامبول rono maruti sym بيجو alto willing changhe jin moto mpm atos symbol xzara 309 إسيزي sandero شيفروليه spark qq peugot رونو maruté ستبواى citroën xara هاربين wulling espace 206 foord ivico sandiro sokon changh dfac بولمهار j tisane bartner vosvaken begout jita بيكانتو logan ايبيزا simca mercedes كليوا harbin ezgo sonalika changane 50 laguna new سيتروان hafei compiss niva city إبيزا bolo tous شيفرولي جيط polo motos-scooters ليون fyat q5 405 hafi 504 golf6 شراد jonway changhe. mazouz lincoln okinoi vigo herbin piaggio sonacom reunelt renualt corola سبارك stepwaw cf arrow shineray bijo سوزوكي location stepway haima7\n"
     ]
    }
   ],
   "source": [
    "unknown_brands = []\n",
    "for i in range(len(brands_counts)):\n",
    "    if brands_counts.iloc[i]['brand'] not in brands:\n",
    "        unknown_brands.append(brands_counts.iloc[i]['brand'])\n",
    "print(' '.join(unknown_brands))"
   ]
  },
  {
   "cell_type": "markdown",
   "id": "be374ade-ddcb-46f2-9c08-9dbc3c651780",
   "metadata": {},
   "source": [
    "We can observe 3 special cases:\n",
    "\n",
    "1. Brands written in Arabic: the only way to recover those is translating every Arabic title, which will end up taking alot of time.\n",
    "\n",
    "2. Models names misteken with brands, e.g. ibiza, range rover, atos ... , brands names with spelling errors or actual brands that are not already in the list.\n",
    "\n",
    "3. Brands that are not car brands at all (motocyles ...etc). Thoes are irrelevant."
   ]
  },
  {
   "cell_type": "code",
   "execution_count": 14,
   "id": "4045c6e1-3114-4b56-b5d7-5e4fe8b32c18",
   "metadata": {
    "tags": []
   },
   "outputs": [
    {
     "data": {
      "text/plain": [
       "149"
      ]
     },
     "execution_count": 14,
     "metadata": {},
     "output_type": "execute_result"
    }
   ],
   "source": [
    "len(df[df['brand'].isin(unknown_brands)])"
   ]
  },
  {
   "cell_type": "markdown",
   "id": "faed52bf-7416-408a-8fa7-d00a93291ba7",
   "metadata": {},
   "source": [
    "There are 149 cars with unknown brands. It is not that significant number so we will drop all."
   ]
  },
  {
   "cell_type": "code",
   "execution_count": 15,
   "id": "7372b223-3b86-484e-b440-c150730a3631",
   "metadata": {},
   "outputs": [],
   "source": [
    "for index, car in df.iterrows():\n",
    "    if car['brand'] in unknown_brands:\n",
    "        df.drop(index, axis = 0, inplace = True)"
   ]
  },
  {
   "cell_type": "code",
   "execution_count": 16,
   "id": "194e898e-ece0-45bb-86d0-7bf03007b51c",
   "metadata": {},
   "outputs": [
    {
     "data": {
      "text/plain": [
       "17437"
      ]
     },
     "execution_count": 16,
     "metadata": {},
     "output_type": "execute_result"
    }
   ],
   "source": [
    "len(df)"
   ]
  },
  {
   "cell_type": "markdown",
   "id": "c50a45bd-9491-48a0-8fdd-e5f2174122c5",
   "metadata": {},
   "source": [
    "Now we have to deal with the model similarly.\n",
    "\n",
    "It is much more difficult to grasp every model for every brand, so we will be removing models with number of occurrences equals or under 3 occurrences."
   ]
  },
  {
   "cell_type": "code",
   "execution_count": 17,
   "id": "08c1bb21-984e-483b-8ab7-8371c77483f3",
   "metadata": {},
   "outputs": [
    {
     "data": {
      "text/plain": [
       "785"
      ]
     },
     "execution_count": 17,
     "metadata": {},
     "output_type": "execute_result"
    }
   ],
   "source": [
    "models = df['model'].value_counts().reset_index().set_axis(['model', 'count'], axis = 1)\n",
    "len(models[models['count'] == 1]) + 2 * len(models[models['count'] == 2]) + 3 * len(models[models['count'] == 3])"
   ]
  },
  {
   "cell_type": "markdown",
   "id": "4ad5290d-7d1a-4411-ad01-6e871497a82e",
   "metadata": {},
   "source": [
    "Luckily, there is relatively few of them.\n",
    "\n",
    "And since they are rare individuals, models would have low confidence evaluating similar occurrences."
   ]
  },
  {
   "cell_type": "code",
   "execution_count": 18,
   "id": "6d6ce789-e72d-4321-944c-eb7d6acb9aa5",
   "metadata": {
    "tags": []
   },
   "outputs": [],
   "source": [
    "dropped_models = models[models['count'].isin([1, 2])]['model'].tolist()"
   ]
  },
  {
   "cell_type": "code",
   "execution_count": 19,
   "id": "86b04206-0906-439d-82f1-fa1a1925930b",
   "metadata": {},
   "outputs": [],
   "source": [
    "for index, car in df.iterrows():\n",
    "    if car['model'] in dropped_models:\n",
    "        df.drop(index, axis = 0, inplace = True)"
   ]
  },
  {
   "cell_type": "code",
   "execution_count": 20,
   "id": "d006c847-47fa-49c7-82f9-2669c7fb123d",
   "metadata": {
    "tags": []
   },
   "outputs": [
    {
     "data": {
      "text/plain": [
       "16832"
      ]
     },
     "execution_count": 20,
     "metadata": {},
     "output_type": "execute_result"
    }
   ],
   "source": [
    "len(df)"
   ]
  },
  {
   "cell_type": "code",
   "execution_count": 21,
   "id": "7b4665cd-b3fc-4b31-9a05-917204465c4d",
   "metadata": {},
   "outputs": [],
   "source": [
    "df.drop('title', axis = 1, inplace = True)"
   ]
  },
  {
   "cell_type": "markdown",
   "id": "f2684052-e3ca-4a8a-962e-4648a7c5ea52",
   "metadata": {},
   "source": [
    "Now for the engine, we will try to extract characteristics of the engine from the string as follow:"
   ]
  },
  {
   "cell_type": "code",
   "execution_count": 22,
   "id": "d906ef1c-bca6-4700-ae9e-ef305d3b8646",
   "metadata": {},
   "outputs": [],
   "source": [
    "def extract_engine_charact(engine):\n",
    "    if pd.isna(engine):\n",
    "        return np.nan, np.nan\n",
    "    \n",
    "    try:\n",
    "        vol = re.search('^(\\d+\\.\\d+)', engine).group(1)\n",
    "    except Exception:\n",
    "        vol = np.nan\n",
    "    try:\n",
    "        ch = re.search('(\\d+)ch', engine).group(1)\n",
    "    except Exception:\n",
    "        ch = np.nan\n",
    "    return float(vol), float(ch)"
   ]
  },
  {
   "cell_type": "code",
   "execution_count": 23,
   "id": "78b151d4-a2c9-4a3a-940d-3fb32ea930af",
   "metadata": {
    "tags": []
   },
   "outputs": [],
   "source": [
    "df[['volume', 'horses']] = pd.DataFrame(df['engine'].map(extract_engine_charact).tolist())"
   ]
  },
  {
   "cell_type": "code",
   "execution_count": 24,
   "id": "8141c50e-6167-4bcf-b0a2-831795cfd1a8",
   "metadata": {},
   "outputs": [
    {
     "data": {
      "text/plain": [
       "0.400        4\n",
       "0.600        6\n",
       "0.700        1\n",
       "0.800      419\n",
       "0.900       18\n",
       "1.000      494\n",
       "1.100      783\n",
       "1.200     1356\n",
       "1.250       23\n",
       "1.300      525\n",
       "1.400     1512\n",
       "1.500     1933\n",
       "1.600     2533\n",
       "1.700      101\n",
       "1.800      303\n",
       "1.900     1734\n",
       "2.000     2310\n",
       "2.100        9\n",
       "2.200      351\n",
       "2.219        1\n",
       "2.300        5\n",
       "2.400       11\n",
       "2.500      414\n",
       "2.560        1\n",
       "2.700        9\n",
       "2.800       31\n",
       "2.900        3\n",
       "3.000       42\n",
       "3.200        1\n",
       "3.500        3\n",
       "3.600        2\n",
       "4.200       28\n",
       "4.400        2\n",
       "5.000        1\n",
       "20.150       1\n",
       "Name: volume, dtype: int64"
      ]
     },
     "execution_count": 24,
     "metadata": {},
     "output_type": "execute_result"
    }
   ],
   "source": [
    "df['volume'].value_counts().sort_index()"
   ]
  },
  {
   "cell_type": "markdown",
   "id": "8cd001da-c84b-422e-ba38-86c30ec2bac3",
   "metadata": {},
   "source": [
    "There is one outlier with 20.150, which seems more likely to be 2.0 and 150 horses power."
   ]
  },
  {
   "cell_type": "code",
   "execution_count": 25,
   "id": "aa3019ea-210a-4a0e-ac27-95839028f41e",
   "metadata": {},
   "outputs": [],
   "source": [
    "df.loc[df['volume'] == 20.150, ['volume', 'horses']] = [2.0, 150.0]"
   ]
  },
  {
   "cell_type": "code",
   "execution_count": 26,
   "id": "29a2e4bd-5ef6-4463-9bcc-cefaf84006fc",
   "metadata": {},
   "outputs": [],
   "source": [
    "df['volume'] = np.round(df['volume'], 1)"
   ]
  },
  {
   "cell_type": "code",
   "execution_count": 27,
   "id": "28214612-4c25-4e24-9b28-10d93102f32b",
   "metadata": {},
   "outputs": [],
   "source": [
    "df.drop('engine', axis = 1, inplace = True)"
   ]
  },
  {
   "cell_type": "markdown",
   "id": "89fde78a-6ce2-46ce-bc4b-386fcd1eedce",
   "metadata": {},
   "source": [
    "We will then try to one hot encode the option feature."
   ]
  },
  {
   "cell_type": "code",
   "execution_count": 28,
   "id": "28e3008d-22ce-47fb-bf36-12f096e41a3c",
   "metadata": {},
   "outputs": [
    {
     "data": {
      "text/plain": [
       "' Climatisation ,  Toit ouvrant ,  ABS ,  ESP ,  Radar de recul ,  Direction assisstée ,  Retroviseurs électriques ,  Phares antibrouillard ,  Alarme ,  Phares xénon ,  Jantes Alliage ,  Feux du jour ,  Vitres éléctriques '"
      ]
     },
     "execution_count": 28,
     "metadata": {},
     "output_type": "execute_result"
    }
   ],
   "source": [
    "df.iloc[0]['options']"
   ]
  },
  {
   "cell_type": "code",
   "execution_count": 29,
   "id": "785fe45c-d4a1-458c-a7cd-cef043050eb7",
   "metadata": {},
   "outputs": [
    {
     "data": {
      "text/plain": [
       "{'abs',\n",
       " 'alarme',\n",
       " 'climatisation',\n",
       " 'direction assisstée',\n",
       " 'esp',\n",
       " 'feux du jour',\n",
       " 'jantes alliage',\n",
       " 'phares antibrouillard',\n",
       " 'phares xénon',\n",
       " 'radar de recul',\n",
       " 'retroviseurs électriques',\n",
       " 'toit ouvrant',\n",
       " 'vitres éléctriques'}"
      ]
     },
     "execution_count": 29,
     "metadata": {},
     "output_type": "execute_result"
    }
   ],
   "source": [
    "options = set()\n",
    "for index, car in df.iterrows():\n",
    "    if not pd.isna(car['options']):\n",
    "        car_options = re.split(' +, +', car['options'].lower().strip())\n",
    "        options.update(car_options)\n",
    "options"
   ]
  },
  {
   "cell_type": "code",
   "execution_count": 30,
   "id": "f46936a2-93b8-49cc-975b-fffc6bbb5856",
   "metadata": {},
   "outputs": [],
   "source": [
    "for option in options:\n",
    "    df[option] = 0"
   ]
  },
  {
   "cell_type": "code",
   "execution_count": 31,
   "id": "eb57e3ba-d2c7-4d73-968b-b158d05fe610",
   "metadata": {},
   "outputs": [],
   "source": [
    "for index, car in df.iterrows():\n",
    "    if not pd.isna(car['options']):\n",
    "        car_options = re.split(' +, +', car['options'].lower().strip())\n",
    "        df.loc[index, car_options] = 1"
   ]
  },
  {
   "cell_type": "code",
   "execution_count": 32,
   "id": "20b2d48f-2d78-4b0f-af76-6eb376bc4f53",
   "metadata": {},
   "outputs": [],
   "source": [
    "df.drop('options', axis = 1, inplace = True)"
   ]
  },
  {
   "cell_type": "markdown",
   "id": "96b92a59-74b0-4cca-a229-8f921c14f282",
   "metadata": {},
   "source": [
    "Our dataset is finally ready for some exploration."
   ]
  },
  {
   "cell_type": "code",
   "execution_count": 33,
   "id": "6fb3c62b-303e-4014-b39e-15cbbe19a18f",
   "metadata": {},
   "outputs": [
    {
     "data": {
      "text/html": [
       "<div>\n",
       "<style scoped>\n",
       "    .dataframe tbody tr th:only-of-type {\n",
       "        vertical-align: middle;\n",
       "    }\n",
       "\n",
       "    .dataframe tbody tr th {\n",
       "        vertical-align: top;\n",
       "    }\n",
       "\n",
       "    .dataframe thead th {\n",
       "        text-align: right;\n",
       "    }\n",
       "</style>\n",
       "<table border=\"1\" class=\"dataframe\">\n",
       "  <thead>\n",
       "    <tr style=\"text-align: right;\">\n",
       "      <th></th>\n",
       "      <th>id</th>\n",
       "      <th>date</th>\n",
       "      <th>category</th>\n",
       "      <th>energy</th>\n",
       "      <th>range</th>\n",
       "      <th>color</th>\n",
       "      <th>papers</th>\n",
       "      <th>transmission</th>\n",
       "      <th>price</th>\n",
       "      <th>offer</th>\n",
       "      <th>...</th>\n",
       "      <th>direction assisstée</th>\n",
       "      <th>climatisation</th>\n",
       "      <th>jantes alliage</th>\n",
       "      <th>esp</th>\n",
       "      <th>vitres éléctriques</th>\n",
       "      <th>retroviseurs électriques</th>\n",
       "      <th>phares antibrouillard</th>\n",
       "      <th>phares xénon</th>\n",
       "      <th>feux du jour</th>\n",
       "      <th>abs</th>\n",
       "    </tr>\n",
       "  </thead>\n",
       "  <tbody>\n",
       "    <tr>\n",
       "      <th>0</th>\n",
       "      <td>27661724</td>\n",
       "      <td>27-07-2021</td>\n",
       "      <td>moyenne berline</td>\n",
       "      <td>diesel</td>\n",
       "      <td>56000</td>\n",
       "      <td>blanc</td>\n",
       "      <td>carte grise (safia)</td>\n",
       "      <td>manuelle</td>\n",
       "      <td>410.0</td>\n",
       "      <td>négociable</td>\n",
       "      <td>...</td>\n",
       "      <td>1</td>\n",
       "      <td>1</td>\n",
       "      <td>1</td>\n",
       "      <td>1</td>\n",
       "      <td>1</td>\n",
       "      <td>1</td>\n",
       "      <td>1</td>\n",
       "      <td>1</td>\n",
       "      <td>1</td>\n",
       "      <td>1</td>\n",
       "    </tr>\n",
       "    <tr>\n",
       "      <th>1</th>\n",
       "      <td>27661710</td>\n",
       "      <td>27-07-2021</td>\n",
       "      <td>commerciale</td>\n",
       "      <td>essence</td>\n",
       "      <td>2</td>\n",
       "      <td>gris</td>\n",
       "      <td>carte grise (safia)</td>\n",
       "      <td>manuelle</td>\n",
       "      <td>138.0</td>\n",
       "      <td>fixe</td>\n",
       "      <td>...</td>\n",
       "      <td>0</td>\n",
       "      <td>0</td>\n",
       "      <td>0</td>\n",
       "      <td>0</td>\n",
       "      <td>0</td>\n",
       "      <td>0</td>\n",
       "      <td>0</td>\n",
       "      <td>0</td>\n",
       "      <td>0</td>\n",
       "      <td>0</td>\n",
       "    </tr>\n",
       "    <tr>\n",
       "      <th>2</th>\n",
       "      <td>27661707</td>\n",
       "      <td>27-07-2021</td>\n",
       "      <td>citadine</td>\n",
       "      <td>diesel</td>\n",
       "      <td>10</td>\n",
       "      <td>gris</td>\n",
       "      <td>carte grise (safia)</td>\n",
       "      <td>manuelle</td>\n",
       "      <td>305.0</td>\n",
       "      <td>négociable</td>\n",
       "      <td>...</td>\n",
       "      <td>1</td>\n",
       "      <td>1</td>\n",
       "      <td>0</td>\n",
       "      <td>0</td>\n",
       "      <td>1</td>\n",
       "      <td>1</td>\n",
       "      <td>1</td>\n",
       "      <td>0</td>\n",
       "      <td>0</td>\n",
       "      <td>1</td>\n",
       "    </tr>\n",
       "    <tr>\n",
       "      <th>3</th>\n",
       "      <td>27661699</td>\n",
       "      <td>27-07-2021</td>\n",
       "      <td>citadine</td>\n",
       "      <td>essence</td>\n",
       "      <td>277000</td>\n",
       "      <td>blanc</td>\n",
       "      <td>carte grise (safia)</td>\n",
       "      <td>manuelle</td>\n",
       "      <td>150.0</td>\n",
       "      <td>offert</td>\n",
       "      <td>...</td>\n",
       "      <td>1</td>\n",
       "      <td>1</td>\n",
       "      <td>1</td>\n",
       "      <td>1</td>\n",
       "      <td>1</td>\n",
       "      <td>1</td>\n",
       "      <td>0</td>\n",
       "      <td>0</td>\n",
       "      <td>0</td>\n",
       "      <td>1</td>\n",
       "    </tr>\n",
       "    <tr>\n",
       "      <th>4</th>\n",
       "      <td>27661693</td>\n",
       "      <td>27-07-2021</td>\n",
       "      <td>mini citadine</td>\n",
       "      <td>essence</td>\n",
       "      <td>18000</td>\n",
       "      <td>bleu</td>\n",
       "      <td>carte grise (safia)</td>\n",
       "      <td>manuelle</td>\n",
       "      <td>63.0</td>\n",
       "      <td>fixe</td>\n",
       "      <td>...</td>\n",
       "      <td>0</td>\n",
       "      <td>0</td>\n",
       "      <td>0</td>\n",
       "      <td>0</td>\n",
       "      <td>0</td>\n",
       "      <td>0</td>\n",
       "      <td>0</td>\n",
       "      <td>0</td>\n",
       "      <td>0</td>\n",
       "      <td>0</td>\n",
       "    </tr>\n",
       "  </tbody>\n",
       "</table>\n",
       "<p>5 rows × 30 columns</p>\n",
       "</div>"
      ],
      "text/plain": [
       "         id        date         category   energy   range  color  \\\n",
       "0  27661724  27-07-2021  moyenne berline   diesel   56000  blanc   \n",
       "1  27661710  27-07-2021      commerciale  essence       2   gris   \n",
       "2  27661707  27-07-2021         citadine   diesel      10   gris   \n",
       "3  27661699  27-07-2021         citadine  essence  277000  blanc   \n",
       "4  27661693  27-07-2021    mini citadine  essence   18000   bleu   \n",
       "\n",
       "                papers transmission  price       offer  ...  \\\n",
       "0  carte grise (safia)     manuelle  410.0  négociable  ...   \n",
       "1  carte grise (safia)     manuelle  138.0        fixe  ...   \n",
       "2  carte grise (safia)     manuelle  305.0  négociable  ...   \n",
       "3  carte grise (safia)     manuelle  150.0      offert  ...   \n",
       "4  carte grise (safia)     manuelle   63.0        fixe  ...   \n",
       "\n",
       "  direction assisstée climatisation jantes alliage esp  vitres éléctriques  \\\n",
       "0                   1             1              1   1                   1   \n",
       "1                   0             0              0   0                   0   \n",
       "2                   1             1              0   0                   1   \n",
       "3                   1             1              1   1                   1   \n",
       "4                   0             0              0   0                   0   \n",
       "\n",
       "   retroviseurs électriques  phares antibrouillard  phares xénon  \\\n",
       "0                         1                      1             1   \n",
       "1                         0                      0             0   \n",
       "2                         1                      1             0   \n",
       "3                         1                      0             0   \n",
       "4                         0                      0             0   \n",
       "\n",
       "   feux du jour  abs  \n",
       "0             1    1  \n",
       "1             0    0  \n",
       "2             0    1  \n",
       "3             0    1  \n",
       "4             0    0  \n",
       "\n",
       "[5 rows x 30 columns]"
      ]
     },
     "execution_count": 33,
     "metadata": {},
     "output_type": "execute_result"
    }
   ],
   "source": [
    "df.head()"
   ]
  },
  {
   "cell_type": "code",
   "execution_count": 34,
   "id": "4b734335-bfd0-49c9-b513-4b6821477cf7",
   "metadata": {},
   "outputs": [],
   "source": [
    "df.to_csv(os.path.abspath('dataset/cars_cleaned.csv'), index = False)"
   ]
  }
 ],
 "metadata": {
  "kernelspec": {
   "display_name": "Python 3",
   "language": "python",
   "name": "python3"
  },
  "language_info": {
   "codemirror_mode": {
    "name": "ipython",
    "version": 3
   },
   "file_extension": ".py",
   "mimetype": "text/x-python",
   "name": "python",
   "nbconvert_exporter": "python",
   "pygments_lexer": "ipython3",
   "version": "3.8.10"
  },
  "toc-autonumbering": false,
  "toc-showcode": false,
  "toc-showmarkdowntxt": true
 },
 "nbformat": 4,
 "nbformat_minor": 5
}
