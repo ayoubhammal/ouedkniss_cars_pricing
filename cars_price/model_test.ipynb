{
 "cells": [
  {
   "cell_type": "code",
   "execution_count": 1,
   "id": "de6ae057",
   "metadata": {},
   "outputs": [],
   "source": [
    "from joblib import load\n",
    "import numpy as np\n",
    "import pandas as pd\n",
    "import os\n",
    "from sklearn.base import BaseEstimator, TransformerMixin"
   ]
  },
  {
   "cell_type": "code",
   "execution_count": 2,
   "id": "29f6d066",
   "metadata": {},
   "outputs": [],
   "source": [
    "class LogTransformer(BaseEstimator, TransformerMixin):\n",
    "    def __init__(self):\n",
    "        pass\n",
    "    def fit(self, X, y=None):\n",
    "        return self\n",
    "    def transform(self, X):\n",
    "        return np.log(X)"
   ]
  },
  {
   "cell_type": "code",
   "execution_count": 3,
   "id": "8d6cfe9d",
   "metadata": {
    "scrolled": true
   },
   "outputs": [],
   "source": [
    "model = load(os.path.abspath('models/price_estimator.bz2'))"
   ]
  },
  {
   "cell_type": "code",
   "execution_count": 4,
   "id": "2958445a",
   "metadata": {},
   "outputs": [],
   "source": [
    "df_full = pd.read_csv(os.path.abspath('dataset/cars_cleaned.csv'))"
   ]
  },
  {
   "cell_type": "code",
   "execution_count": 5,
   "id": "9e461fd2",
   "metadata": {},
   "outputs": [],
   "source": [
    "sample = df_full.sample(1)"
   ]
  },
  {
   "cell_type": "code",
   "execution_count": 6,
   "id": "cf84dde5",
   "metadata": {
    "scrolled": false
   },
   "outputs": [
    {
     "data": {
      "text/html": [
       "<div>\n",
       "<style scoped>\n",
       "    .dataframe tbody tr th:only-of-type {\n",
       "        vertical-align: middle;\n",
       "    }\n",
       "\n",
       "    .dataframe tbody tr th {\n",
       "        vertical-align: top;\n",
       "    }\n",
       "\n",
       "    .dataframe thead th {\n",
       "        text-align: right;\n",
       "    }\n",
       "</style>\n",
       "<table border=\"1\" class=\"dataframe\">\n",
       "  <thead>\n",
       "    <tr style=\"text-align: right;\">\n",
       "      <th></th>\n",
       "      <th>id</th>\n",
       "      <th>date</th>\n",
       "      <th>category</th>\n",
       "      <th>energy</th>\n",
       "      <th>range</th>\n",
       "      <th>color</th>\n",
       "      <th>papers</th>\n",
       "      <th>transmission</th>\n",
       "      <th>price</th>\n",
       "      <th>offer</th>\n",
       "      <th>...</th>\n",
       "      <th>direction assisstée</th>\n",
       "      <th>climatisation</th>\n",
       "      <th>jantes alliage</th>\n",
       "      <th>esp</th>\n",
       "      <th>vitres éléctriques</th>\n",
       "      <th>retroviseurs électriques</th>\n",
       "      <th>phares antibrouillard</th>\n",
       "      <th>phares xénon</th>\n",
       "      <th>feux du jour</th>\n",
       "      <th>abs</th>\n",
       "    </tr>\n",
       "  </thead>\n",
       "  <tbody>\n",
       "    <tr>\n",
       "      <th>3606</th>\n",
       "      <td>27351549</td>\n",
       "      <td>25-07-2021</td>\n",
       "      <td>pickup</td>\n",
       "      <td>diesel</td>\n",
       "      <td>220009</td>\n",
       "      <td>noir</td>\n",
       "      <td>carte grise (safia)</td>\n",
       "      <td>manuelle</td>\n",
       "      <td>243.0</td>\n",
       "      <td>offert</td>\n",
       "      <td>...</td>\n",
       "      <td>1</td>\n",
       "      <td>1</td>\n",
       "      <td>1</td>\n",
       "      <td>1</td>\n",
       "      <td>1</td>\n",
       "      <td>1</td>\n",
       "      <td>1</td>\n",
       "      <td>0</td>\n",
       "      <td>1</td>\n",
       "      <td>1</td>\n",
       "    </tr>\n",
       "  </tbody>\n",
       "</table>\n",
       "<p>1 rows × 30 columns</p>\n",
       "</div>"
      ],
      "text/plain": [
       "            id        date category  energy   range color  \\\n",
       "3606  27351549  25-07-2021   pickup  diesel  220009  noir   \n",
       "\n",
       "                   papers transmission  price   offer  ...  \\\n",
       "3606  carte grise (safia)     manuelle  243.0  offert  ...   \n",
       "\n",
       "     direction assisstée climatisation jantes alliage esp  vitres éléctriques  \\\n",
       "3606                   1             1              1   1                   1   \n",
       "\n",
       "      retroviseurs électriques  phares antibrouillard  phares xénon  \\\n",
       "3606                         1                      1             0   \n",
       "\n",
       "      feux du jour  abs  \n",
       "3606             1    1  \n",
       "\n",
       "[1 rows x 30 columns]"
      ]
     },
     "execution_count": 6,
     "metadata": {},
     "output_type": "execute_result"
    }
   ],
   "source": [
    "sample"
   ]
  },
  {
   "cell_type": "code",
   "execution_count": 7,
   "id": "fcdf1bc9",
   "metadata": {
    "scrolled": true
   },
   "outputs": [
    {
     "data": {
      "text/plain": [
       "array([235.1002746])"
      ]
     },
     "execution_count": 7,
     "metadata": {},
     "output_type": "execute_result"
    }
   ],
   "source": [
    "model.predict(sample[['range', 'volume', 'horses', 'year', 'phares antibrouillard', 'toit ouvrant', 'phares xénon', 'climatisation', 'retroviseurs électriques', 'abs', 'alarme', 'vitres éléctriques', 'direction assisstée', 'esp', 'feux du jour', 'jantes alliage', 'radar de recul', 'category', 'energy', 'color', 'papers', 'transmission', 'offer', 'wilaya', 'town', 'brand', 'model']])"
   ]
  },
  {
   "cell_type": "markdown",
   "id": "522b6221",
   "metadata": {},
   "source": [
    "Not bad !!"
   ]
  }
 ],
 "metadata": {
  "kernelspec": {
   "display_name": "Python 3",
   "language": "python",
   "name": "python3"
  },
  "language_info": {
   "codemirror_mode": {
    "name": "ipython",
    "version": 3
   },
   "file_extension": ".py",
   "mimetype": "text/x-python",
   "name": "python",
   "nbconvert_exporter": "python",
   "pygments_lexer": "ipython3",
   "version": "3.8.10"
  }
 },
 "nbformat": 4,
 "nbformat_minor": 5
}
