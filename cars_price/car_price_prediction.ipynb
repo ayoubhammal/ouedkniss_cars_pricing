{
 "cells": [
  {
   "cell_type": "code",
   "execution_count": 1,
   "id": "ea144904-e9c1-43cf-a421-83098fd7af98",
   "metadata": {},
   "outputs": [],
   "source": [
    "%matplotlib inline\n",
    "\n",
    "import os, re\n",
    "\n",
    "import numpy as np\n",
    "import pandas as pd\n",
    "import matplotlib.pyplot as plt\n",
    "import seaborn as sns\n",
    "\n",
    "from sklearn.model_selection import train_test_split, cross_val_score,GridSearchCV\n",
    "from sklearn.base import BaseEstimator, TransformerMixin\n",
    "from sklearn.preprocessing import OrdinalEncoder, OneHotEncoder, StandardScaler\n",
    "from sklearn.pipeline import Pipeline\n",
    "from sklearn.compose import ColumnTransformer\n",
    "from sklearn.linear_model import ElasticNet\n",
    "from sklearn.ensemble import AdaBoostRegressor, ExtraTreesRegressor, RandomForestRegressor, GradientBoostingRegressor, StackingRegressor, VotingRegressor\n",
    "from sklearn.svm import SVR\n",
    "from sklearn.tree import DecisionTreeRegressor\n",
    "from sklearn.metrics import mean_squared_error, mean_absolute_error\n",
    "\n",
    "from joblib import dump, load"
   ]
  },
  {
   "cell_type": "code",
   "execution_count": 2,
   "id": "20e96b82-92c3-4afd-90b5-3a48f2fd4765",
   "metadata": {},
   "outputs": [],
   "source": [
    "random_state = 42"
   ]
  },
  {
   "cell_type": "markdown",
   "id": "0dc78e20-e9c4-4a2c-a61e-f53d0d0b2b1d",
   "metadata": {},
   "source": [
    "# Loading the dataset"
   ]
  },
  {
   "cell_type": "markdown",
   "id": "a808bae3-f61d-4651-8ab8-5e5a4de3817c",
   "metadata": {
    "tags": []
   },
   "source": [
    "The dataset contains sales data of used cars. The goal is to predict the target price of the car."
   ]
  },
  {
   "cell_type": "markdown",
   "id": "1a6aa8dc-c490-49d7-8442-57aaa893f18e",
   "metadata": {},
   "source": [
    "## Attributes description"
   ]
  },
  {
   "cell_type": "markdown",
   "id": "876b9619-d60c-40d8-8cb3-66dac1a6e2b9",
   "metadata": {
    "tags": []
   },
   "source": [
    "- **id**: an integer unically identifying a car ad\n",
    "- **date**: the date the ad was published\n",
    "- **categoy**: the category of the car\n",
    "- **energy**: the energy the car uses\n",
    "- **range**: the distance the car already traveled\n",
    "- **color**: the color of the car\n",
    "- **papers**: the type of legal documents the owner has\n",
    "- **transmission**: the type of transmission of the car\n",
    "- **offer**: the type of deal the owner accepts\n",
    "- **wilaya**: the wilaya the ad was published from\n",
    "- **town**: the town the ad was published from, relative to the wilaya\n",
    "- **brand**: the brand of the car\n",
    "- **model**: the model of the car, relative to the brand\n",
    "- **year**: the year the car was initially bought\n",
    "- **volume**: the consumption of the engine\n",
    "- **horses**: the number of horses of the engine\n",
    "- **climatisation, ...**: those are additional options of the car\n",
    "- **price**: the target price of the car\n",
    "\n",
    "The problem is a regression problem were the model has to predict the price of car.\n",
    "\n",
    "The goal of the final model is to suggest a range of prices for a given car, and it will typically be used as a web application."
   ]
  },
  {
   "cell_type": "code",
   "execution_count": 3,
   "id": "186267bd-15b0-47a2-bf9a-7919fdbda0d5",
   "metadata": {},
   "outputs": [],
   "source": [
    "df_full = pd.read_csv(os.path.abspath('dataset/cars_cleaned.csv'))"
   ]
  },
  {
   "cell_type": "code",
   "execution_count": 4,
   "id": "4fff0a08-620f-4c13-ab86-a6377cdb1267",
   "metadata": {},
   "outputs": [
    {
     "data": {
      "text/plain": [
       "16832"
      ]
     },
     "execution_count": 4,
     "metadata": {},
     "output_type": "execute_result"
    }
   ],
   "source": [
    "len(df_full)"
   ]
  },
  {
   "cell_type": "code",
   "execution_count": 5,
   "id": "23bee2a4-64b9-47f9-ac03-55e3d604eee6",
   "metadata": {},
   "outputs": [
    {
     "data": {
      "text/html": [
       "<div>\n",
       "<style scoped>\n",
       "    .dataframe tbody tr th:only-of-type {\n",
       "        vertical-align: middle;\n",
       "    }\n",
       "\n",
       "    .dataframe tbody tr th {\n",
       "        vertical-align: top;\n",
       "    }\n",
       "\n",
       "    .dataframe thead th {\n",
       "        text-align: right;\n",
       "    }\n",
       "</style>\n",
       "<table border=\"1\" class=\"dataframe\">\n",
       "  <thead>\n",
       "    <tr style=\"text-align: right;\">\n",
       "      <th></th>\n",
       "      <th>id</th>\n",
       "      <th>date</th>\n",
       "      <th>category</th>\n",
       "      <th>energy</th>\n",
       "      <th>range</th>\n",
       "      <th>color</th>\n",
       "      <th>papers</th>\n",
       "      <th>transmission</th>\n",
       "      <th>price</th>\n",
       "      <th>offer</th>\n",
       "      <th>...</th>\n",
       "      <th>direction assisstée</th>\n",
       "      <th>climatisation</th>\n",
       "      <th>jantes alliage</th>\n",
       "      <th>esp</th>\n",
       "      <th>vitres éléctriques</th>\n",
       "      <th>retroviseurs électriques</th>\n",
       "      <th>phares antibrouillard</th>\n",
       "      <th>phares xénon</th>\n",
       "      <th>feux du jour</th>\n",
       "      <th>abs</th>\n",
       "    </tr>\n",
       "  </thead>\n",
       "  <tbody>\n",
       "    <tr>\n",
       "      <th>0</th>\n",
       "      <td>27661724</td>\n",
       "      <td>27-07-2021</td>\n",
       "      <td>moyenne berline</td>\n",
       "      <td>diesel</td>\n",
       "      <td>56000</td>\n",
       "      <td>blanc</td>\n",
       "      <td>carte grise (safia)</td>\n",
       "      <td>manuelle</td>\n",
       "      <td>410.0</td>\n",
       "      <td>négociable</td>\n",
       "      <td>...</td>\n",
       "      <td>1</td>\n",
       "      <td>1</td>\n",
       "      <td>1</td>\n",
       "      <td>1</td>\n",
       "      <td>1</td>\n",
       "      <td>1</td>\n",
       "      <td>1</td>\n",
       "      <td>1</td>\n",
       "      <td>1</td>\n",
       "      <td>1</td>\n",
       "    </tr>\n",
       "    <tr>\n",
       "      <th>1</th>\n",
       "      <td>27661710</td>\n",
       "      <td>27-07-2021</td>\n",
       "      <td>commerciale</td>\n",
       "      <td>essence</td>\n",
       "      <td>2</td>\n",
       "      <td>gris</td>\n",
       "      <td>carte grise (safia)</td>\n",
       "      <td>manuelle</td>\n",
       "      <td>138.0</td>\n",
       "      <td>fixe</td>\n",
       "      <td>...</td>\n",
       "      <td>0</td>\n",
       "      <td>0</td>\n",
       "      <td>0</td>\n",
       "      <td>0</td>\n",
       "      <td>0</td>\n",
       "      <td>0</td>\n",
       "      <td>0</td>\n",
       "      <td>0</td>\n",
       "      <td>0</td>\n",
       "      <td>0</td>\n",
       "    </tr>\n",
       "    <tr>\n",
       "      <th>2</th>\n",
       "      <td>27661707</td>\n",
       "      <td>27-07-2021</td>\n",
       "      <td>citadine</td>\n",
       "      <td>diesel</td>\n",
       "      <td>10</td>\n",
       "      <td>gris</td>\n",
       "      <td>carte grise (safia)</td>\n",
       "      <td>manuelle</td>\n",
       "      <td>305.0</td>\n",
       "      <td>négociable</td>\n",
       "      <td>...</td>\n",
       "      <td>1</td>\n",
       "      <td>1</td>\n",
       "      <td>0</td>\n",
       "      <td>0</td>\n",
       "      <td>1</td>\n",
       "      <td>1</td>\n",
       "      <td>1</td>\n",
       "      <td>0</td>\n",
       "      <td>0</td>\n",
       "      <td>1</td>\n",
       "    </tr>\n",
       "    <tr>\n",
       "      <th>3</th>\n",
       "      <td>27661699</td>\n",
       "      <td>27-07-2021</td>\n",
       "      <td>citadine</td>\n",
       "      <td>essence</td>\n",
       "      <td>277000</td>\n",
       "      <td>blanc</td>\n",
       "      <td>carte grise (safia)</td>\n",
       "      <td>manuelle</td>\n",
       "      <td>150.0</td>\n",
       "      <td>offert</td>\n",
       "      <td>...</td>\n",
       "      <td>1</td>\n",
       "      <td>1</td>\n",
       "      <td>1</td>\n",
       "      <td>1</td>\n",
       "      <td>1</td>\n",
       "      <td>1</td>\n",
       "      <td>0</td>\n",
       "      <td>0</td>\n",
       "      <td>0</td>\n",
       "      <td>1</td>\n",
       "    </tr>\n",
       "    <tr>\n",
       "      <th>4</th>\n",
       "      <td>27661693</td>\n",
       "      <td>27-07-2021</td>\n",
       "      <td>mini citadine</td>\n",
       "      <td>essence</td>\n",
       "      <td>18000</td>\n",
       "      <td>bleu</td>\n",
       "      <td>carte grise (safia)</td>\n",
       "      <td>manuelle</td>\n",
       "      <td>63.0</td>\n",
       "      <td>fixe</td>\n",
       "      <td>...</td>\n",
       "      <td>0</td>\n",
       "      <td>0</td>\n",
       "      <td>0</td>\n",
       "      <td>0</td>\n",
       "      <td>0</td>\n",
       "      <td>0</td>\n",
       "      <td>0</td>\n",
       "      <td>0</td>\n",
       "      <td>0</td>\n",
       "      <td>0</td>\n",
       "    </tr>\n",
       "  </tbody>\n",
       "</table>\n",
       "<p>5 rows × 30 columns</p>\n",
       "</div>"
      ],
      "text/plain": [
       "         id        date         category   energy   range  color  \\\n",
       "0  27661724  27-07-2021  moyenne berline   diesel   56000  blanc   \n",
       "1  27661710  27-07-2021      commerciale  essence       2   gris   \n",
       "2  27661707  27-07-2021         citadine   diesel      10   gris   \n",
       "3  27661699  27-07-2021         citadine  essence  277000  blanc   \n",
       "4  27661693  27-07-2021    mini citadine  essence   18000   bleu   \n",
       "\n",
       "                papers transmission  price       offer  ...  \\\n",
       "0  carte grise (safia)     manuelle  410.0  négociable  ...   \n",
       "1  carte grise (safia)     manuelle  138.0        fixe  ...   \n",
       "2  carte grise (safia)     manuelle  305.0  négociable  ...   \n",
       "3  carte grise (safia)     manuelle  150.0      offert  ...   \n",
       "4  carte grise (safia)     manuelle   63.0        fixe  ...   \n",
       "\n",
       "  direction assisstée climatisation jantes alliage esp  vitres éléctriques  \\\n",
       "0                   1             1              1   1                   1   \n",
       "1                   0             0              0   0                   0   \n",
       "2                   1             1              0   0                   1   \n",
       "3                   1             1              1   1                   1   \n",
       "4                   0             0              0   0                   0   \n",
       "\n",
       "   retroviseurs électriques  phares antibrouillard  phares xénon  \\\n",
       "0                         1                      1             1   \n",
       "1                         0                      0             0   \n",
       "2                         1                      1             0   \n",
       "3                         1                      0             0   \n",
       "4                         0                      0             0   \n",
       "\n",
       "   feux du jour  abs  \n",
       "0             1    1  \n",
       "1             0    0  \n",
       "2             0    1  \n",
       "3             0    1  \n",
       "4             0    0  \n",
       "\n",
       "[5 rows x 30 columns]"
      ]
     },
     "execution_count": 5,
     "metadata": {},
     "output_type": "execute_result"
    }
   ],
   "source": [
    "df_full.head()"
   ]
  },
  {
   "cell_type": "code",
   "execution_count": 6,
   "id": "706c6863-cf4b-40df-a3dc-dd376efa76ea",
   "metadata": {},
   "outputs": [
    {
     "name": "stdout",
     "output_type": "stream",
     "text": [
      "<class 'pandas.core.frame.DataFrame'>\n",
      "RangeIndex: 16832 entries, 0 to 16831\n",
      "Data columns (total 30 columns):\n",
      " #   Column                    Non-Null Count  Dtype  \n",
      "---  ------                    --------------  -----  \n",
      " 0   id                        16832 non-null  int64  \n",
      " 1   date                      16832 non-null  object \n",
      " 2   category                  16832 non-null  object \n",
      " 3   energy                    16832 non-null  object \n",
      " 4   range                     16832 non-null  int64  \n",
      " 5   color                     16734 non-null  object \n",
      " 6   papers                    16832 non-null  object \n",
      " 7   transmission              16832 non-null  object \n",
      " 8   price                     16832 non-null  float64\n",
      " 9   offer                     16832 non-null  object \n",
      " 10  wilaya                    16828 non-null  object \n",
      " 11  town                      16827 non-null  object \n",
      " 12  brand                     16832 non-null  object \n",
      " 13  model                     16832 non-null  object \n",
      " 14  year                      16832 non-null  int64  \n",
      " 15  volume                    14970 non-null  float64\n",
      " 16  horses                    13089 non-null  float64\n",
      " 17  radar de recul            16832 non-null  int64  \n",
      " 18  toit ouvrant              16832 non-null  int64  \n",
      " 19  alarme                    16832 non-null  int64  \n",
      " 20  direction assisstée       16832 non-null  int64  \n",
      " 21  climatisation             16832 non-null  int64  \n",
      " 22  jantes alliage            16832 non-null  int64  \n",
      " 23  esp                       16832 non-null  int64  \n",
      " 24  vitres éléctriques        16832 non-null  int64  \n",
      " 25  retroviseurs électriques  16832 non-null  int64  \n",
      " 26  phares antibrouillard     16832 non-null  int64  \n",
      " 27  phares xénon              16832 non-null  int64  \n",
      " 28  feux du jour              16832 non-null  int64  \n",
      " 29  abs                       16832 non-null  int64  \n",
      "dtypes: float64(3), int64(16), object(11)\n",
      "memory usage: 3.9+ MB\n"
     ]
    }
   ],
   "source": [
    "df_full.info()"
   ]
  },
  {
   "cell_type": "markdown",
   "id": "3d3ee653-16fd-4139-bf1e-213ac3e8f677",
   "metadata": {},
   "source": [
    "Most of the attributes are nominal categorical attributes.\n",
    "\n",
    "The data takes only ~ 4 MB of space. So loading the whole dataset will not result in any performance decrease."
   ]
  },
  {
   "cell_type": "code",
   "execution_count": 7,
   "id": "12adae13-8cf4-4b8a-96dd-6c567d698e40",
   "metadata": {},
   "outputs": [],
   "source": [
    "df_full['date'] = pd.to_datetime(df_full['date'])"
   ]
  },
  {
   "cell_type": "code",
   "execution_count": 8,
   "id": "a550a5b7-fb9a-4adc-b76a-5a57c2f0f19c",
   "metadata": {},
   "outputs": [],
   "source": [
    "df = df_full.copy()"
   ]
  },
  {
   "cell_type": "markdown",
   "id": "52e361f1-f6be-40d3-a5b5-cdaa45ccf4d7",
   "metadata": {
    "tags": []
   },
   "source": [
    "# Exploratory data analysis"
   ]
  },
  {
   "cell_type": "code",
   "execution_count": 9,
   "id": "8b2e7a79-b7c7-4eb9-b14c-8ee4f118231d",
   "metadata": {
    "tags": []
   },
   "outputs": [
    {
     "data": {
      "text/plain": [
       "<AxesSubplot:>"
      ]
     },
     "execution_count": 9,
     "metadata": {},
     "output_type": "execute_result"
    },
    {
     "data": {
      "image/png": "[encoded data removed]",
      "text/plain": [
       "<Figure size 432x288 with 2 Axes>"
      ]
     },
     "metadata": {
      "needs_background": "light"
     },
     "output_type": "display_data"
    }
   ],
   "source": [
    "sns.heatmap(df[['price', 'range', 'year', 'volume', 'horses']].corr().abs(), annot = True, cmap = 'Blues')"
   ]
  },
  {
   "cell_type": "markdown",
   "id": "0725bc51-7db3-4e4d-8431-f1af602e3842",
   "metadata": {},
   "source": [
    "There is strong correlation between volume and horses. We can replace these two features with a combination of them, but since they both have low correlation with the target price it will not be necessary.\n",
    "\n",
    "We note also that the year has strong correlation with the price."
   ]
  },
  {
   "cell_type": "markdown",
   "id": "6b166d7e-8fc4-4004-a189-ad4a85820de3",
   "metadata": {},
   "source": [
    "## Missing values"
   ]
  },
  {
   "cell_type": "code",
   "execution_count": 10,
   "id": "4c1f9d82-d6b6-495b-b5f4-363556f38a56",
   "metadata": {},
   "outputs": [
    {
     "data": {
      "text/plain": [
       "id                             0\n",
       "date                           0\n",
       "category                       0\n",
       "energy                         0\n",
       "range                          0\n",
       "color                         98\n",
       "papers                         0\n",
       "transmission                   0\n",
       "price                          0\n",
       "offer                          0\n",
       "wilaya                         4\n",
       "town                           5\n",
       "brand                          0\n",
       "model                          0\n",
       "year                           0\n",
       "volume                      1862\n",
       "horses                      3743\n",
       "radar de recul                 0\n",
       "toit ouvrant                   0\n",
       "alarme                         0\n",
       "direction assisstée            0\n",
       "climatisation                  0\n",
       "jantes alliage                 0\n",
       "esp                            0\n",
       "vitres éléctriques             0\n",
       "retroviseurs électriques       0\n",
       "phares antibrouillard          0\n",
       "phares xénon                   0\n",
       "feux du jour                   0\n",
       "abs                            0\n",
       "dtype: int64"
      ]
     },
     "execution_count": 10,
     "metadata": {},
     "output_type": "execute_result"
    }
   ],
   "source": [
    "df.isna().sum()"
   ]
  },
  {
   "cell_type": "markdown",
   "id": "db29d4a9-c948-424b-9870-307efd71ecfc",
   "metadata": {},
   "source": [
    "Since the data has high variance, we cannot replace missing volume or horses number, which are important for predicting price. Otherwise, we will end up heavily influencing the models.\n",
    "\n",
    "On the other hand, there are considerably less missing colors values, which will be filled by the mode value.\n",
    "\n",
    "There are also 4 and 5 missing wilayas and towns respectively. They will be dropped as well.\n",
    "\n",
    "We will not use a generic pipeline, since we do not expect hightly unstructured data in the future. The model will rather be served on custom platform that ensure all future samples do not have missing values."
   ]
  },
  {
   "cell_type": "code",
   "execution_count": 11,
   "id": "f97bcd3d-5b4f-491e-845b-0241b8301046",
   "metadata": {},
   "outputs": [],
   "source": [
    "df.dropna(subset = ['wilaya', 'town', 'volume', 'horses'], axis = 0, inplace = True)\n",
    "df['color'].fillna(df['color'].mode(), inplace = True)"
   ]
  },
  {
   "cell_type": "markdown",
   "id": "2b74e5ed-37ce-49c0-8487-635424ad0a2e",
   "metadata": {},
   "source": [
    "## train-test split"
   ]
  },
  {
   "cell_type": "code",
   "execution_count": 12,
   "id": "a6ba547b-c7a5-45c4-9976-af51bbe0d74d",
   "metadata": {
    "tags": []
   },
   "outputs": [],
   "source": [
    "train_set, test_set = train_test_split(df, test_size = 0.2, random_state = random_state)\n",
    "df_train = train_set.copy()"
   ]
  },
  {
   "cell_type": "markdown",
   "id": "c9c1ebfe-a885-4b18-aa9d-198706185427",
   "metadata": {},
   "source": [
    "## Numerical features\n",
    "\n",
    "year, range, volume, horses"
   ]
  },
  {
   "cell_type": "markdown",
   "id": "b0b0f38f-cfa9-420f-bf29-4b25efec6db3",
   "metadata": {},
   "source": [
    "### year"
   ]
  },
  {
   "cell_type": "code",
   "execution_count": 13,
   "id": "abf95b0c-1b36-4959-ace9-6ad838666d04",
   "metadata": {},
   "outputs": [
    {
     "data": {
      "text/plain": [
       "<seaborn.axisgrid.FacetGrid at 0x7f8cd65476a0>"
      ]
     },
     "execution_count": 13,
     "metadata": {},
     "output_type": "execute_result"
    },
    {
     "data": {
      "image/png": "[encoded data removed]",
      "text/plain": [
       "<Figure size 720x360 with 1 Axes>"
      ]
     },
     "metadata": {
      "needs_background": "light"
     },
     "output_type": "display_data"
    }
   ],
   "source": [
    "sns.displot(kind = 'hist', data = df_train, x = 'year', y = 'price', bins = 50, aspect = 2)"
   ]
  },
  {
   "cell_type": "markdown",
   "id": "efced2e0-2750-4a48-94d4-4c20b7cb1e00",
   "metadata": {},
   "source": [
    "The price seems to be capped at 1000, we may want to remove prices around 1000 so the model does not learn missleading patterns."
   ]
  },
  {
   "cell_type": "markdown",
   "id": "838f9931-141e-4034-9c84-9729436002a9",
   "metadata": {},
   "source": [
    "### range"
   ]
  },
  {
   "cell_type": "code",
   "execution_count": 14,
   "id": "1bd872d3-fbbd-4388-94fc-02ffa773eadc",
   "metadata": {},
   "outputs": [
    {
     "data": {
      "text/plain": [
       "<seaborn.axisgrid.FacetGrid at 0x7f8cde8723a0>"
      ]
     },
     "execution_count": 14,
     "metadata": {},
     "output_type": "execute_result"
    },
    {
     "data": {
      "image/png": "[encoded data removed]",
      "text/plain": [
       "<Figure size 1080x360 with 1 Axes>"
      ]
     },
     "metadata": {
      "needs_background": "light"
     },
     "output_type": "display_data"
    },
    {
     "data": {
      "image/png": "[encoded data removed]",
      "text/plain": [
       "<Figure size 1080x360 with 1 Axes>"
      ]
     },
     "metadata": {
      "needs_background": "light"
     },
     "output_type": "display_data"
    }
   ],
   "source": [
    "sns.displot(kind = 'hist', data = df_train, x = 'range', bins = 100, aspect = 3)\n",
    "sns.displot(kind = 'hist', data = df_train, x = 'range', y = 'price', bins = 100, aspect = 3)"
   ]
  },
  {
   "cell_type": "markdown",
   "id": "678257ed-3e76-4ec5-bf96-30bc51654fa6",
   "metadata": {},
   "source": [
    "We conclude that prices tend to be higher for new cars with least range (again those two features are correlated)."
   ]
  },
  {
   "cell_type": "code",
   "execution_count": 15,
   "id": "a28a961b-c45a-404a-a3e0-7a7bd871e57f",
   "metadata": {},
   "outputs": [
    {
     "data": {
      "text/plain": [
       "10.186681254655964"
      ]
     },
     "execution_count": 15,
     "metadata": {},
     "output_type": "execute_result"
    }
   ],
   "source": [
    "df_train['range'].skew()"
   ]
  },
  {
   "cell_type": "markdown",
   "id": "3825e8d0-e566-49bd-bbb3-2b1b10ea3f9a",
   "metadata": {},
   "source": [
    "Skew is important on range, we will apply a log transformation to reduce skewness."
   ]
  },
  {
   "cell_type": "code",
   "execution_count": 16,
   "id": "5f3e2d75-b2b0-4776-b68e-da28ecd4848d",
   "metadata": {},
   "outputs": [],
   "source": [
    "df_train['range'] = df_train['range'].map(lambda x: np.log(x) if x > 0 else x)"
   ]
  },
  {
   "cell_type": "code",
   "execution_count": 17,
   "id": "ad9aef4f-afa4-4e71-aff0-a444a57463e6",
   "metadata": {},
   "outputs": [
    {
     "data": {
      "text/plain": [
       "<seaborn.axisgrid.FacetGrid at 0x7f8cde872130>"
      ]
     },
     "execution_count": 17,
     "metadata": {},
     "output_type": "execute_result"
    },
    {
     "data": {
      "image/png": "[encoded data removed]",
      "text/plain": [
       "<Figure size 1080x360 with 1 Axes>"
      ]
     },
     "metadata": {
      "needs_background": "light"
     },
     "output_type": "display_data"
    }
   ],
   "source": [
    "sns.displot(kind = 'hist', data = df_train, x = 'range', bins = 100, aspect = 3)"
   ]
  },
  {
   "cell_type": "code",
   "execution_count": 18,
   "id": "2ccb068f-ddb3-444b-b6d5-f50cc10811f7",
   "metadata": {},
   "outputs": [
    {
     "data": {
      "text/plain": [
       "-1.1518829910091601"
      ]
     },
     "execution_count": 18,
     "metadata": {},
     "output_type": "execute_result"
    }
   ],
   "source": [
    "df_train['range'].skew()"
   ]
  },
  {
   "cell_type": "markdown",
   "id": "c9e3426c-4f36-43a1-8286-7314b33cd2e6",
   "metadata": {},
   "source": [
    "We have to apply the same transformation on the test and new samples. So we will add this transformation to the final pipeline."
   ]
  },
  {
   "cell_type": "markdown",
   "id": "9c43c778-fb2f-4f8f-8da4-2cd39392b731",
   "metadata": {},
   "source": [
    "### volume"
   ]
  },
  {
   "cell_type": "code",
   "execution_count": 19,
   "id": "f5d518a5-6108-4490-8119-fa8b7d875bab",
   "metadata": {},
   "outputs": [
    {
     "data": {
      "text/plain": [
       "<seaborn.axisgrid.FacetGrid at 0x7f8cde965be0>"
      ]
     },
     "execution_count": 19,
     "metadata": {},
     "output_type": "execute_result"
    },
    {
     "data": {
      "image/png": "[encoded data removed]",
      "text/plain": [
       "<Figure size 1080x360 with 1 Axes>"
      ]
     },
     "metadata": {
      "needs_background": "light"
     },
     "output_type": "display_data"
    },
    {
     "data": {
      "image/png": "[encoded data removed]",
      "text/plain": [
       "<Figure size 1080x360 with 1 Axes>"
      ]
     },
     "metadata": {
      "needs_background": "light"
     },
     "output_type": "display_data"
    }
   ],
   "source": [
    "sns.displot(kind = 'hist', data = df_train, x = 'volume', bins = 100, aspect = 3)\n",
    "sns.catplot(kind = 'bar', data = df_train, x = 'volume', y = 'price', aspect = 3)"
   ]
  },
  {
   "cell_type": "markdown",
   "id": "df3721b7-8435-43ca-8932-27ed3a5c284f",
   "metadata": {},
   "source": [
    "### horses"
   ]
  },
  {
   "cell_type": "code",
   "execution_count": 20,
   "id": "fa327e6a-9180-4814-a3d9-f2432e1ad487",
   "metadata": {},
   "outputs": [
    {
     "data": {
      "text/plain": [
       "<seaborn.axisgrid.FacetGrid at 0x7f8cd60d2730>"
      ]
     },
     "execution_count": 20,
     "metadata": {},
     "output_type": "execute_result"
    },
    {
     "data": {
      "image/png": "[encoded data removed]",
      "text/plain": [
       "<Figure size 1080x360 with 1 Axes>"
      ]
     },
     "metadata": {
      "needs_background": "light"
     },
     "output_type": "display_data"
    }
   ],
   "source": [
    "sns.displot(kind = 'hist', data = df_train, x = 'horses', bins = 100, aspect = 3)"
   ]
  },
  {
   "cell_type": "code",
   "execution_count": 21,
   "id": "52a9a701-32ab-422c-9b2a-d5118721db02",
   "metadata": {},
   "outputs": [
    {
     "data": {
      "text/plain": [
       "<seaborn.axisgrid.FacetGrid at 0x7f8cd5eff070>"
      ]
     },
     "execution_count": 21,
     "metadata": {},
     "output_type": "execute_result"
    },
    {
     "data": {
      "image/png": "[encoded data removed]",
      "text/plain": [
       "<Figure size 360x360 with 1 Axes>"
      ]
     },
     "metadata": {
      "needs_background": "light"
     },
     "output_type": "display_data"
    }
   ],
   "source": [
    "sns.catplot(kind = 'box', data = df_train, y = 'horses')"
   ]
  },
  {
   "cell_type": "markdown",
   "id": "cdbd6563-2a11-4f0d-ba4d-9ce7b4ec526c",
   "metadata": {},
   "source": [
    "It seems that there are some outliers for the number of horses."
   ]
  },
  {
   "cell_type": "markdown",
   "id": "9827d69e-5b67-4793-b734-27c9647e5b54",
   "metadata": {},
   "source": [
    "## Categorical features\n",
    "\n",
    "date, category, energy, color, papers, transmission, offer, wilaya, town, brand, model "
   ]
  },
  {
   "cell_type": "markdown",
   "id": "ffd9e68c-5509-4f06-82d0-90bea6dcb496",
   "metadata": {},
   "source": [
    "### date"
   ]
  },
  {
   "cell_type": "code",
   "execution_count": 22,
   "id": "12bd8b2f-01e5-4cab-8e77-41a1c69eadf6",
   "metadata": {},
   "outputs": [
    {
     "data": {
      "text/plain": [
       "<seaborn.axisgrid.FacetGrid at 0x7f8cd602c940>"
      ]
     },
     "execution_count": 22,
     "metadata": {},
     "output_type": "execute_result"
    },
    {
     "data": {
      "image/png": "[encoded data removed]",
      "text/plain": [
       "<Figure size 1080x360 with 1 Axes>"
      ]
     },
     "metadata": {
      "needs_background": "light"
     },
     "output_type": "display_data"
    }
   ],
   "source": [
    "sns.relplot(kind = 'line', data = df_train, x = 'date', y = 'price', aspect = 3)"
   ]
  },
  {
   "cell_type": "markdown",
   "id": "7eae646d-1924-47ec-a396-a3bb3aa633a6",
   "metadata": {},
   "source": [
    "Considerig the time serie of the price with respect to the ad date, we cannot extract any valuable pattern."
   ]
  },
  {
   "cell_type": "markdown",
   "id": "2a0435d6-913f-42f2-a86c-c52c28d15e97",
   "metadata": {},
   "source": [
    "We will use one hot encoding for `category, energy, color, papers, transmission, offer`.\n",
    "\n",
    "We prefer using ordinal encoding for `wilaya, town, brand, model`, because there are many values and so we can learn relationships between them."
   ]
  },
  {
   "cell_type": "markdown",
   "id": "6d330701-248a-42a3-a8bd-03aec8347f72",
   "metadata": {},
   "source": [
    "# Preparing pipeline"
   ]
  },
  {
   "cell_type": "code",
   "execution_count": 23,
   "id": "1b9d692a-e0e4-4131-816b-07be28a86bff",
   "metadata": {},
   "outputs": [],
   "source": [
    "# Log tranformer for range\n",
    "class LogTransformer(BaseEstimator, TransformerMixin):\n",
    "    def __init__(self):\n",
    "        pass\n",
    "    def fit(self, X, y=None):\n",
    "        return self\n",
    "    def transform(self, X):\n",
    "        return np.log(X)"
   ]
  },
  {
   "cell_type": "code",
   "execution_count": 24,
   "id": "e3b711a4-c471-4522-931c-55098d82ecd6",
   "metadata": {},
   "outputs": [],
   "source": [
    "full_pipeline = ColumnTransformer([\n",
    "    ('log_std', Pipeline([\n",
    "        ('log', LogTransformer()),\n",
    "        ('std_scaler', StandardScaler())\n",
    "        ]), ['range']),\n",
    "    ('std', Pipeline([\n",
    "        ('std_scaler', StandardScaler())\n",
    "        ]), ['volume', 'horses']),\n",
    "    ('pass', 'passthrough', ['year', 'phares antibrouillard', \n",
    "                            'toit ouvrant', 'phares xénon', \n",
    "                             'climatisation', 'retroviseurs électriques', \n",
    "                             'abs', 'alarme', 'vitres éléctriques', \n",
    "                             'direction assisstée', 'esp', 'feux du jour', \n",
    "                             'jantes alliage', 'radar de recul']),\n",
    "    ('one_hot', OneHotEncoder(handle_unknown = 'ignore'), ['category', 'energy', 'color', 'papers', 'transmission', 'offer']),\n",
    "    ('ordi', OrdinalEncoder(handle_unknown = 'use_encoded_value', unknown_value = -1), ['wilaya', 'town', 'brand', 'model'])\n",
    "])"
   ]
  },
  {
   "cell_type": "code",
   "execution_count": 25,
   "id": "776e322b-8aea-4ce8-b649-95cd796bc6cd",
   "metadata": {},
   "outputs": [],
   "source": [
    "train_labels = train_set['price'].copy()\n",
    "test_labels = test_set['price'].copy()"
   ]
  },
  {
   "cell_type": "code",
   "execution_count": 26,
   "id": "e29b8db6-2321-4866-b037-7722fc138b7c",
   "metadata": {},
   "outputs": [],
   "source": [
    "full_pipeline.fit(df[['range', 'volume', 'horses', 'year', 'phares antibrouillard', \n",
    "                            'toit ouvrant', 'phares xénon', \n",
    "                             'climatisation', 'retroviseurs électriques', \n",
    "                             'abs', 'alarme', 'vitres éléctriques', \n",
    "                             'direction assisstée', 'esp', 'feux du jour', \n",
    "                             'jantes alliage', 'radar de recul',\n",
    "                             'category', 'energy', 'color', 'papers', 'transmission', 'offer',\n",
    "                             'wilaya', 'town', 'brand', 'model']])\n",
    "train_prepared = full_pipeline.transform(train_set[['range', 'volume', 'horses', 'year', 'phares antibrouillard', \n",
    "                            'toit ouvrant', 'phares xénon', \n",
    "                             'climatisation', 'retroviseurs électriques', \n",
    "                             'abs', 'alarme', 'vitres éléctriques', \n",
    "                             'direction assisstée', 'esp', 'feux du jour', \n",
    "                             'jantes alliage', 'radar de recul',\n",
    "                             'category', 'energy', 'color', 'papers', 'transmission', 'offer',\n",
    "                             'wilaya', 'town', 'brand', 'model']])\n",
    "test_prepared = full_pipeline.transform(test_set[['range', 'volume', 'horses', 'year', 'phares antibrouillard', \n",
    "                            'toit ouvrant', 'phares xénon', \n",
    "                             'climatisation', 'retroviseurs électriques', \n",
    "                             'abs', 'alarme', 'vitres éléctriques', \n",
    "                             'direction assisstée', 'esp', 'feux du jour', \n",
    "                             'jantes alliage', 'radar de recul',\n",
    "                             'category', 'energy', 'color', 'papers', 'transmission', 'offer',\n",
    "                             'wilaya', 'town', 'brand', 'model']])"
   ]
  },
  {
   "cell_type": "markdown",
   "id": "07440377-aa82-4ddd-8ba0-d6b91f38b347",
   "metadata": {},
   "source": [
    "# Model Selection"
   ]
  },
  {
   "cell_type": "markdown",
   "id": "32a5dca8-0176-4aa0-b593-c3045be5bc88",
   "metadata": {},
   "source": [
    "We will use mean absolute error as a metric since there is too many outliers in the dataset, and we do not want the model to penalize large error values."
   ]
  },
  {
   "cell_type": "code",
   "execution_count": 27,
   "id": "63228209-9a2a-4ee6-af9d-c634680db302",
   "metadata": {},
   "outputs": [],
   "source": [
    "regressors = []\n",
    "regressors.append(ElasticNet())\n",
    "regressors.append(DecisionTreeRegressor(random_state = random_state))\n",
    "regressors.append(RandomForestRegressor(random_state = random_state))\n",
    "regressors.append(SVR())\n",
    "regressors.append(AdaBoostRegressor(random_state = random_state))\n",
    "regressors.append(ExtraTreesRegressor(random_state = random_state))\n",
    "regressors.append(GradientBoostingRegressor(random_state = random_state))\n",
    "\n",
    "cv_results = []\n",
    "for reg_ in regressors:\n",
    "    cv_results.append(cross_val_score(reg_, train_prepared, \n",
    "                                      train_labels, \n",
    "                                      cv = 10, \n",
    "                                      scoring = 'neg_mean_absolute_error',\n",
    "                                      n_jobs = 4))\n",
    "cv_results = pd.DataFrame(cv_results, index = ['ElasticNet', 'DecisionTreeRegressor', 'RandomForestRegressor',\n",
    "                                              'SVR', 'AdaBoostRegressor', 'ExtraTreesRegressor', 'GradientBoostingRegressor']).transpose()"
   ]
  },
  {
   "cell_type": "code",
   "execution_count": 28,
   "id": "b16380bb-bec3-4fe6-9cda-d6d0acca50ea",
   "metadata": {},
   "outputs": [
    {
     "data": {
      "text/plain": [
       "<seaborn.axisgrid.FacetGrid at 0x7f8cde872c70>"
      ]
     },
     "execution_count": 28,
     "metadata": {},
     "output_type": "execute_result"
    },
    {
     "data": {
      "image/png": "[encoded data removed]",
      "text/plain": [
       "<Figure size 1080x360 with 1 Axes>"
      ]
     },
     "metadata": {
      "needs_background": "light"
     },
     "output_type": "display_data"
    }
   ],
   "source": [
    "sns.catplot(kind = 'box', data = cv_results, aspect = 3)"
   ]
  },
  {
   "cell_type": "code",
   "execution_count": 29,
   "id": "fe08e153-3292-4ec0-b671-c9044dbae1b7",
   "metadata": {},
   "outputs": [
    {
     "data": {
      "text/plain": [
       "GradientBoostingRegressor   -42.599102\n",
       "RandomForestRegressor       -42.922319\n",
       "ExtraTreesRegressor         -44.598640\n",
       "DecisionTreeRegressor       -57.918650\n",
       "ElasticNet                  -68.759204\n",
       "AdaBoostRegressor           -94.330797\n",
       "SVR                         -95.163322\n",
       "dtype: float64"
      ]
     },
     "execution_count": 29,
     "metadata": {},
     "output_type": "execute_result"
    }
   ],
   "source": [
    "cv_results.mean().sort_values(ascending = False)"
   ]
  },
  {
   "cell_type": "code",
   "execution_count": 30,
   "id": "b1d7d2f2-6416-4265-ab59-6d8c97a1c5b6",
   "metadata": {},
   "outputs": [
    {
     "data": {
      "text/plain": [
       "DecisionTreeRegressor         0.898286\n",
       "GradientBoostingRegressor     1.743343\n",
       "ElasticNet                    1.881774\n",
       "RandomForestRegressor         1.950885\n",
       "ExtraTreesRegressor           2.191264\n",
       "SVR                           2.789002\n",
       "AdaBoostRegressor            15.986948\n",
       "dtype: float64"
      ]
     },
     "execution_count": 30,
     "metadata": {},
     "output_type": "execute_result"
    }
   ],
   "source": [
    "cv_results.std().sort_values(ascending = True)"
   ]
  },
  {
   "cell_type": "markdown",
   "id": "9495f64e-85f1-4d82-b51d-e075f3537bba",
   "metadata": {},
   "source": [
    "We will be keeping GradientBoostingRegressor, RandomForestRegressor, ExtraTreesRegressor and LinearRegression with ElasticNet for an ensemble learning model."
   ]
  },
  {
   "cell_type": "markdown",
   "id": "0a231419-4fc5-4f2a-b6eb-006f4a0fdf43",
   "metadata": {},
   "source": [
    "## Hyperparameters tuning "
   ]
  },
  {
   "cell_type": "markdown",
   "id": "7afea82d-26d6-426e-b983-2192dafcbec9",
   "metadata": {},
   "source": [
    "### LinearRegression"
   ]
  },
  {
   "cell_type": "code",
   "execution_count": 31,
   "id": "fe1d9d0f-cf23-499b-a8c2-9dc4a6cee603",
   "metadata": {},
   "outputs": [
    {
     "name": "stdout",
     "output_type": "stream",
     "text": [
      "Fitting 10 folds for each of 36 candidates, totalling 360 fits\n"
     ]
    },
    {
     "data": {
      "text/plain": [
       "GridSearchCV(cv=10, estimator=ElasticNet(random_state=42), n_jobs=4,\n",
       "             param_grid={'alpha': [100.0, 50.0, 10.0, 1.0, 0.1, 0.01],\n",
       "                         'l1_ratio': [0.1, 0.3, 0.5, 0.7, 0.9, 1]},\n",
       "             scoring='neg_mean_absolute_error', verbose=1)"
      ]
     },
     "execution_count": 31,
     "metadata": {},
     "output_type": "execute_result"
    }
   ],
   "source": [
    "lin_reg = ElasticNet(random_state = random_state)\n",
    "lin_reg_param_grid = {\n",
    "    'alpha': [100.0, 50.0, 10.0, 1.0, 0.1, 0.01],\n",
    "    'l1_ratio' : [0.1, 0.3, 0.5, 0.7, 0.9, 1]\n",
    "}\n",
    "\n",
    "lin_reg_grid_search = GridSearchCV(lin_reg, \n",
    "                                   param_grid = lin_reg_param_grid, \n",
    "                                   cv = 10, \n",
    "                                   scoring = 'neg_mean_absolute_error', \n",
    "                                   verbose = 1,\n",
    "                                   n_jobs = 4)\n",
    "\n",
    "lin_reg_grid_search.fit(train_prepared, train_labels)"
   ]
  },
  {
   "cell_type": "code",
   "execution_count": 32,
   "id": "2b1ae4d7-cf03-405e-a466-1f8d4c7ebd7d",
   "metadata": {},
   "outputs": [
    {
     "data": {
      "text/plain": [
       "{'alpha': 0.1, 'l1_ratio': 1}"
      ]
     },
     "execution_count": 32,
     "metadata": {},
     "output_type": "execute_result"
    }
   ],
   "source": [
    "lin_reg_grid_search.best_params_"
   ]
  },
  {
   "cell_type": "code",
   "execution_count": 33,
   "id": "e088cf2a-d122-4208-9bf2-6a703a235143",
   "metadata": {},
   "outputs": [
    {
     "data": {
      "text/plain": [
       "-59.88344121204629"
      ]
     },
     "execution_count": 33,
     "metadata": {},
     "output_type": "execute_result"
    }
   ],
   "source": [
    "lin_reg_grid_search.best_score_"
   ]
  },
  {
   "cell_type": "markdown",
   "id": "dca16706-caab-4705-b1a8-a399e40305e5",
   "metadata": {},
   "source": [
    "We reduced ElasticNet error by 8 using gridsearch.\n",
    "\n",
    "Lasso aggressive regularization helped eliminating less important features."
   ]
  },
  {
   "cell_type": "markdown",
   "id": "848ffbd0-b389-47e5-b819-13b219eb45e0",
   "metadata": {},
   "source": [
    "### GradientBoostingRegressor"
   ]
  },
  {
   "cell_type": "code",
   "execution_count": 34,
   "id": "f26935d9-0c75-42bd-9244-39321a27f552",
   "metadata": {
    "tags": []
   },
   "outputs": [
    {
     "name": "stdout",
     "output_type": "stream",
     "text": [
      "Fitting 10 folds for each of 9 candidates, totalling 90 fits\n"
     ]
    },
    {
     "data": {
      "text/plain": [
       "GridSearchCV(cv=10, estimator=GradientBoostingRegressor(random_state=42),\n",
       "             n_jobs=4,\n",
       "             param_grid={'learning_rate': [1.0, 0.1, 0.01],\n",
       "                         'n_estimators': [100, 200, 300]},\n",
       "             scoring='neg_mean_absolute_error', verbose=1)"
      ]
     },
     "execution_count": 34,
     "metadata": {},
     "output_type": "execute_result"
    }
   ],
   "source": [
    "grb_reg = GradientBoostingRegressor(random_state = random_state)\n",
    "grb_reg_param_grid = {\n",
    "    'learning_rate': [1.0, 0.1, 0.01],\n",
    "    'n_estimators': [100, 200, 300]\n",
    "}\n",
    "\n",
    "grb_reg_grid_search = GridSearchCV(grb_reg, \n",
    "                                   param_grid = grb_reg_param_grid, \n",
    "                                   cv = 10, \n",
    "                                   scoring = 'neg_mean_absolute_error', \n",
    "                                   verbose = 1,\n",
    "                                   n_jobs = 4)\n",
    "\n",
    "grb_reg_grid_search.fit(train_prepared, train_labels)"
   ]
  },
  {
   "cell_type": "code",
   "execution_count": 35,
   "id": "6ab49d2c-88d9-4e4b-be8d-5e6e3a810cfd",
   "metadata": {},
   "outputs": [
    {
     "data": {
      "text/plain": [
       "{'learning_rate': 0.1, 'n_estimators': 300}"
      ]
     },
     "execution_count": 35,
     "metadata": {},
     "output_type": "execute_result"
    }
   ],
   "source": [
    "grb_reg_grid_search.best_params_"
   ]
  },
  {
   "cell_type": "code",
   "execution_count": 36,
   "id": "e8a40d81-3c02-49f0-96f9-e9408e3b6e7c",
   "metadata": {
    "tags": []
   },
   "outputs": [
    {
     "data": {
      "text/plain": [
       "-40.88857053787572"
      ]
     },
     "execution_count": 36,
     "metadata": {},
     "output_type": "execute_result"
    }
   ],
   "source": [
    "grb_reg_grid_search.best_score_"
   ]
  },
  {
   "cell_type": "markdown",
   "id": "0f7454e6-fdf3-462c-81b4-ef16c13fa591",
   "metadata": {},
   "source": [
    "### RandomForestRegressor"
   ]
  },
  {
   "cell_type": "code",
   "execution_count": 37,
   "id": "0a059b35-17d5-4d91-87f0-3a8e073cf729",
   "metadata": {},
   "outputs": [
    {
     "name": "stdout",
     "output_type": "stream",
     "text": [
      "Fitting 10 folds for each of 12 candidates, totalling 120 fits\n"
     ]
    },
    {
     "data": {
      "text/plain": [
       "GridSearchCV(cv=10, estimator=RandomForestRegressor(random_state=42), n_jobs=4,\n",
       "             param_grid={'max_features': ['sqrt', 'log2', 10],\n",
       "                         'min_samples_split': [2, 5],\n",
       "                         'n_estimators': [150, 200]},\n",
       "             scoring='neg_mean_absolute_error', verbose=1)"
      ]
     },
     "execution_count": 37,
     "metadata": {},
     "output_type": "execute_result"
    }
   ],
   "source": [
    "rdf_reg = RandomForestRegressor(random_state = random_state)\n",
    "rdf_reg_param_grid = {\n",
    "    'n_estimators': [150, 200],\n",
    "    'max_features': ['sqrt', 'log2', 10],\n",
    "    \"min_samples_split\": [2, 5]\n",
    "}\n",
    "\n",
    "rdf_reg_grid_search = GridSearchCV(rdf_reg, \n",
    "                                   param_grid = rdf_reg_param_grid, \n",
    "                                   cv = 10, \n",
    "                                   scoring = 'neg_mean_absolute_error', \n",
    "                                   verbose = 1,\n",
    "                                   n_jobs = 4)\n",
    "\n",
    "rdf_reg_grid_search.fit(train_prepared, train_labels)"
   ]
  },
  {
   "cell_type": "code",
   "execution_count": 38,
   "id": "f2d1a483-7a64-4ba6-b574-762772faafb1",
   "metadata": {},
   "outputs": [
    {
     "data": {
      "text/plain": [
       "{'max_features': 10, 'min_samples_split': 2, 'n_estimators': 200}"
      ]
     },
     "execution_count": 38,
     "metadata": {},
     "output_type": "execute_result"
    }
   ],
   "source": [
    "rdf_reg_grid_search.best_params_"
   ]
  },
  {
   "cell_type": "code",
   "execution_count": 39,
   "id": "3c8d0f5b-365f-4552-bab0-bcc875c10b75",
   "metadata": {},
   "outputs": [
    {
     "data": {
      "text/plain": [
       "-42.86058531261879"
      ]
     },
     "execution_count": 39,
     "metadata": {},
     "output_type": "execute_result"
    }
   ],
   "source": [
    "rdf_reg_grid_search.best_score_"
   ]
  },
  {
   "cell_type": "markdown",
   "id": "825f504e-86c0-44ae-aa5e-6c04524ccb03",
   "metadata": {},
   "source": [
    "### ExtraTreesRegressor"
   ]
  },
  {
   "cell_type": "code",
   "execution_count": 40,
   "id": "f471d4ff-59e0-45ab-aafe-6079384b877c",
   "metadata": {},
   "outputs": [
    {
     "name": "stdout",
     "output_type": "stream",
     "text": [
      "Fitting 10 folds for each of 12 candidates, totalling 120 fits\n"
     ]
    },
    {
     "data": {
      "text/plain": [
       "GridSearchCV(cv=10, estimator=ExtraTreesRegressor(random_state=42), n_jobs=4,\n",
       "             param_grid={'max_features': ['sqrt', 'log2', 10],\n",
       "                         'min_samples_split': [2, 5],\n",
       "                         'n_estimators': [100, 150]},\n",
       "             scoring='neg_mean_absolute_error', verbose=1)"
      ]
     },
     "execution_count": 40,
     "metadata": {},
     "output_type": "execute_result"
    }
   ],
   "source": [
    "ext_reg = ExtraTreesRegressor(random_state = random_state)\n",
    "ext_reg_param_grid = {\n",
    "    'n_estimators': [100, 150],\n",
    "    'max_features': ['sqrt', 'log2', 10],\n",
    "    \"min_samples_split\": [2, 5]\n",
    "}\n",
    "\n",
    "ext_reg_grid_search = GridSearchCV(ext_reg, \n",
    "                                   param_grid = ext_reg_param_grid, \n",
    "                                   cv = 10, \n",
    "                                   scoring = 'neg_mean_absolute_error', \n",
    "                                   verbose = 1,\n",
    "                                   n_jobs = 4)\n",
    "\n",
    "ext_reg_grid_search.fit(train_prepared, train_labels)"
   ]
  },
  {
   "cell_type": "code",
   "execution_count": 41,
   "id": "15111348-80eb-45a6-a77f-27fe35d2f9fd",
   "metadata": {},
   "outputs": [
    {
     "data": {
      "text/plain": [
       "{'max_features': 10, 'min_samples_split': 2, 'n_estimators': 150}"
      ]
     },
     "execution_count": 41,
     "metadata": {},
     "output_type": "execute_result"
    }
   ],
   "source": [
    "ext_reg_grid_search.best_params_"
   ]
  },
  {
   "cell_type": "code",
   "execution_count": 42,
   "id": "afae29ed-81f0-4fe3-ac85-9ccd0df77e6e",
   "metadata": {},
   "outputs": [
    {
     "data": {
      "text/plain": [
       "-46.849884112005626"
      ]
     },
     "execution_count": 42,
     "metadata": {},
     "output_type": "execute_result"
    }
   ],
   "source": [
    "ext_reg_grid_search.best_score_"
   ]
  },
  {
   "cell_type": "code",
   "execution_count": 43,
   "id": "e143af7d-974c-4087-b94a-fb201082eb2c",
   "metadata": {},
   "outputs": [],
   "source": [
    "best_regressors = [('LinearRegression', lin_reg_grid_search.best_estimator_),\n",
    "                    ('GradientBoostingRegressor', grb_reg_grid_search.best_estimator_),\n",
    "                    ('RandomForestRegressor', rdf_reg_grid_search.best_estimator_),\n",
    "                    ('ExtraTreesRegressor', ext_reg_grid_search.best_estimator_)\n",
    "                   ]"
   ]
  },
  {
   "cell_type": "code",
   "execution_count": 44,
   "id": "56cb61f7-d0d3-4c20-8929-aca157745fd2",
   "metadata": {},
   "outputs": [
    {
     "data": {
      "text/plain": [
       "<AxesSubplot:>"
      ]
     },
     "execution_count": 44,
     "metadata": {},
     "output_type": "execute_result"
    },
    {
     "data": {
      "image/png": "[encoded data removed]",
      "text/plain": [
       "<Figure size 432x288 with 2 Axes>"
      ]
     },
     "metadata": {
      "needs_background": "light"
     },
     "output_type": "display_data"
    }
   ],
   "source": [
    "test_prediction_lin_reg = pd.Series(best_regressors[0][1].predict(test_prepared), name = 'LIN')\n",
    "test_prediction_grb_reg = pd.Series(best_regressors[1][1].predict(test_prepared), name = 'GRB')\n",
    "test_prediction_rdf_reg = pd.Series(best_regressors[2][1].predict(test_prepared), name = 'RDF')\n",
    "test_prediction_ext_reg = pd.Series(best_regressors[3][1].predict(test_prepared), name = 'EXT')\n",
    "\n",
    "ensemble_results = pd.concat([test_prediction_lin_reg, test_prediction_grb_reg, \n",
    "                              test_prediction_rdf_reg, test_prediction_ext_reg], axis = 1)\n",
    "\n",
    "sns.heatmap(ensemble_results.corr(), annot = True)"
   ]
  },
  {
   "cell_type": "markdown",
   "id": "6058415e",
   "metadata": {},
   "source": [
    "The models make almost the same error, we should not expect ensemble learning algorithms to do any better."
   ]
  },
  {
   "cell_type": "code",
   "execution_count": 45,
   "id": "3cc1d932-c9b6-4c6b-9120-dfa9b7662206",
   "metadata": {},
   "outputs": [
    {
     "name": "stdout",
     "output_type": "stream",
     "text": [
      "LinearRegression : 57.689425012561735\n",
      "GradientBoostingRegressor : 38.16060239025482\n",
      "RandomForestRegressor : 40.41420068688439\n",
      "ExtraTreesRegressor : 44.579472540333356\n",
      "\n"
     ]
    }
   ],
   "source": [
    "score_lin = mean_absolute_error(test_prediction_lin_reg, test_labels)\n",
    "score_grb = mean_absolute_error(test_prediction_grb_reg, test_labels)\n",
    "score_rdf = mean_absolute_error(test_prediction_rdf_reg, test_labels)\n",
    "score_ext = mean_absolute_error(test_prediction_ext_reg, test_labels)\n",
    "\n",
    "print('LinearRegression : ' + str(score_lin) + '\\n' +\n",
    "      'GradientBoostingRegressor : ' + str(score_grb) + '\\n' +\n",
    "      'RandomForestRegressor : ' + str(score_rdf) + '\\n' +\n",
    "      'ExtraTreesRegressor : ' + str(score_ext) + '\\n')"
   ]
  },
  {
   "cell_type": "markdown",
   "id": "aa7ed2a1-f4a2-4945-938e-a6b0e201bee5",
   "metadata": {},
   "source": [
    "No overfitting which is a really good news "
   ]
  },
  {
   "cell_type": "code",
   "execution_count": 46,
   "id": "546deba4-5fcf-44fc-9b03-663e3094e93f",
   "metadata": {},
   "outputs": [
    {
     "name": "stdout",
     "output_type": "stream",
     "text": [
      "vot:        mean_cv_score: -44.1780456812546 std_cv_score: 1.2194681319528369\n"
     ]
    }
   ],
   "source": [
    "vot_reg = VotingRegressor(estimators = best_regressors)\n",
    "score_vot = cross_val_score(vot_reg, \n",
    "                            train_prepared, \n",
    "                            train_labels, \n",
    "                            cv = 10, \n",
    "                            scoring = 'neg_mean_absolute_error',\n",
    "                            n_jobs = 4)\n",
    "print(\"vot:        mean_cv_score: \" + str(score_vot.mean()) + \" std_cv_score: \" + str(score_vot.std()))"
   ]
  },
  {
   "cell_type": "code",
   "execution_count": 47,
   "id": "7db040d4",
   "metadata": {},
   "outputs": [
    {
     "data": {
      "text/plain": [
       "VotingRegressor(estimators=[('LinearRegression',\n",
       "                             ElasticNet(alpha=0.1, l1_ratio=1,\n",
       "                                        random_state=42)),\n",
       "                            ('GradientBoostingRegressor',\n",
       "                             GradientBoostingRegressor(n_estimators=300,\n",
       "                                                       random_state=42)),\n",
       "                            ('RandomForestRegressor',\n",
       "                             RandomForestRegressor(max_features=10,\n",
       "                                                   n_estimators=200,\n",
       "                                                   random_state=42)),\n",
       "                            ('ExtraTreesRegressor',\n",
       "                             ExtraTreesRegressor(max_features=10,\n",
       "                                                 n_estimators=150,\n",
       "                                                 random_state=42))])"
      ]
     },
     "execution_count": 47,
     "metadata": {},
     "output_type": "execute_result"
    }
   ],
   "source": [
    "vot_reg.fit(train_prepared, train_labels)"
   ]
  },
  {
   "cell_type": "code",
   "execution_count": 48,
   "id": "66909a0e",
   "metadata": {},
   "outputs": [
    {
     "data": {
      "text/plain": [
       "41.96915326079668"
      ]
     },
     "execution_count": 48,
     "metadata": {},
     "output_type": "execute_result"
    }
   ],
   "source": [
    "test_prediction = vot_reg.predict(test_prepared)\n",
    "mean_absolute_error(test_prediction, test_labels)"
   ]
  },
  {
   "cell_type": "code",
   "execution_count": 49,
   "id": "a958ce5a",
   "metadata": {},
   "outputs": [
    {
     "name": "stdout",
     "output_type": "stream",
     "text": [
      "stack_lin:  mean_cv_score: -39.77688472649071 std_cv_score: 1.5442434999462962\n"
     ]
    }
   ],
   "source": [
    "stack_lin_reg = StackingRegressor(estimators = best_regressors, n_jobs = 4)\n",
    "score_stack_lin = cross_val_score(stack_lin_reg, \n",
    "                                  train_prepared, \n",
    "                                  train_labels, \n",
    "                                  cv = 10, \n",
    "                                  scoring = 'neg_mean_absolute_error',\n",
    "                                  n_jobs = 4)\n",
    "print(\"stack_lin:  mean_cv_score: \" + str(score_stack_lin.mean()) + \" std_cv_score: \" + str(score_stack_lin.std()))"
   ]
  },
  {
   "cell_type": "code",
   "execution_count": 50,
   "id": "cdb6ea09",
   "metadata": {
    "scrolled": true
   },
   "outputs": [
    {
     "data": {
      "text/plain": [
       "StackingRegressor(estimators=[('LinearRegression',\n",
       "                               ElasticNet(alpha=0.1, l1_ratio=1,\n",
       "                                          random_state=42)),\n",
       "                              ('GradientBoostingRegressor',\n",
       "                               GradientBoostingRegressor(n_estimators=300,\n",
       "                                                         random_state=42)),\n",
       "                              ('RandomForestRegressor',\n",
       "                               RandomForestRegressor(max_features=10,\n",
       "                                                     n_estimators=200,\n",
       "                                                     random_state=42)),\n",
       "                              ('ExtraTreesRegressor',\n",
       "                               ExtraTreesRegressor(max_features=10,\n",
       "                                                   n_estimators=150,\n",
       "                                                   random_state=42))],\n",
       "                  n_jobs=4)"
      ]
     },
     "execution_count": 50,
     "metadata": {},
     "output_type": "execute_result"
    }
   ],
   "source": [
    "stack_lin_reg.fit(train_prepared, train_labels)"
   ]
  },
  {
   "cell_type": "code",
   "execution_count": 51,
   "id": "e1ca51ce",
   "metadata": {},
   "outputs": [
    {
     "data": {
      "text/plain": [
       "37.45364716996189"
      ]
     },
     "execution_count": 51,
     "metadata": {},
     "output_type": "execute_result"
    }
   ],
   "source": [
    "test_prediction = stack_lin_reg.predict(test_prepared)\n",
    "mean_absolute_error(test_prediction, test_labels)"
   ]
  },
  {
   "cell_type": "code",
   "execution_count": 52,
   "id": "a5a09242",
   "metadata": {
    "scrolled": true
   },
   "outputs": [
    {
     "name": "stdout",
     "output_type": "stream",
     "text": [
      "stack_tree: mean_cv_score: -39.77688472649071 std_cv_score: 1.5442434999462962\n"
     ]
    }
   ],
   "source": [
    "stack_tree_reg = StackingRegressor(estimators = best_regressors, final_estimator = DecisionTreeRegressor(), n_jobs = 4)\n",
    "score_stack_tree = cross_val_score(stack_lin_reg, \n",
    "                                   train_prepared, \n",
    "                                   train_labels,\n",
    "                                   cv = 10, \n",
    "                                   scoring = 'neg_mean_absolute_error',\n",
    "                                   n_jobs = 4)\n",
    "print(\"stack_tree: mean_cv_score: \" + str(score_stack_tree.mean()) + \" std_cv_score: \" + str(score_stack_tree.std()))"
   ]
  },
  {
   "cell_type": "code",
   "execution_count": 53,
   "id": "33901b54",
   "metadata": {},
   "outputs": [
    {
     "data": {
      "text/plain": [
       "StackingRegressor(estimators=[('LinearRegression',\n",
       "                               ElasticNet(alpha=0.1, l1_ratio=1,\n",
       "                                          random_state=42)),\n",
       "                              ('GradientBoostingRegressor',\n",
       "                               GradientBoostingRegressor(n_estimators=300,\n",
       "                                                         random_state=42)),\n",
       "                              ('RandomForestRegressor',\n",
       "                               RandomForestRegressor(max_features=10,\n",
       "                                                     n_estimators=200,\n",
       "                                                     random_state=42)),\n",
       "                              ('ExtraTreesRegressor',\n",
       "                               ExtraTreesRegressor(max_features=10,\n",
       "                                                   n_estimators=150,\n",
       "                                                   random_state=42))],\n",
       "                  final_estimator=DecisionTreeRegressor(), n_jobs=4)"
      ]
     },
     "execution_count": 53,
     "metadata": {},
     "output_type": "execute_result"
    }
   ],
   "source": [
    "stack_tree_reg.fit(train_prepared, train_labels)"
   ]
  },
  {
   "cell_type": "code",
   "execution_count": 54,
   "id": "2d7248b1",
   "metadata": {},
   "outputs": [
    {
     "data": {
      "text/plain": [
       "56.53650855365474"
      ]
     },
     "execution_count": 54,
     "metadata": {},
     "output_type": "execute_result"
    }
   ],
   "source": [
    "test_prediction = stack_tree_reg.predict(test_prepared)\n",
    "mean_absolute_error(test_prediction, test_labels)"
   ]
  },
  {
   "cell_type": "markdown",
   "id": "0286bbc1",
   "metadata": {},
   "source": [
    "As expected, ensemble learning did not perform that well. But we still got some improvement.\n",
    "\n",
    "We will keep stacking regressor with linear regression as final predictor."
   ]
  },
  {
   "cell_type": "code",
   "execution_count": 55,
   "id": "75dc9f77",
   "metadata": {},
   "outputs": [],
   "source": [
    "full_model = Pipeline([\n",
    "    ('preprocessing', full_pipeline),\n",
    "    ('model', stack_lin_reg)\n",
    "])"
   ]
  },
  {
   "cell_type": "markdown",
   "id": "c5cb3661",
   "metadata": {},
   "source": [
    "The model is dump file is too large to be hosted on github. I you want to reproduce the model you just have to run this notebook, and make sure your create `models` directory beforehand."
   ]
  },
  {
   "cell_type": "code",
   "execution_count": 62,
   "id": "037532aa",
   "metadata": {
    "scrolled": true
   },
   "outputs": [
    {
     "data": {
      "text/plain": [
       "['/home/ayoub/Documents/cars_price_webapp/cars_price/models/price_estimator.joblib']"
      ]
     },
     "execution_count": 62,
     "metadata": {},
     "output_type": "execute_result"
    }
   ],
   "source": [
    "dump(full_model, os.path.abspath('models/price_estimator.joblib'))"
   ]
  }
 ],
 "metadata": {
  "kernelspec": {
   "display_name": "Python 3",
   "language": "python",
   "name": "python3"
  },
  "language_info": {
   "codemirror_mode": {
    "name": "ipython",
    "version": 3
   },
   "file_extension": ".py",
   "mimetype": "text/x-python",
   "name": "python",
   "nbconvert_exporter": "python",
   "pygments_lexer": "ipython3",
   "version": "3.8.10"
  }
 },
 "nbformat": 4,
 "nbformat_minor": 5
}
